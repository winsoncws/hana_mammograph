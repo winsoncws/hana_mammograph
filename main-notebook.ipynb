{
 "cells": [
  {
   "cell_type": "code",
   "execution_count": 1,
   "id": "0dbc55fd",
   "metadata": {
    "_cell_guid": "b1076dfc-b9ad-4769-8c92-a6c4dae69d19",
    "_uuid": "8f2839f25d086af736a60e9eeb907d3b93b6e0e5",
    "execution": {
     "iopub.execute_input": "2023-01-04T09:33:24.209854Z",
     "iopub.status.busy": "2023-01-04T09:33:24.208498Z",
     "iopub.status.idle": "2023-01-04T09:34:15.225390Z",
     "shell.execute_reply": "2023-01-04T09:34:15.224148Z"
    },
    "papermill": {
     "duration": 51.032241,
     "end_time": "2023-01-04T09:34:15.232383",
     "exception": false,
     "start_time": "2023-01-04T09:33:24.200142",
     "status": "completed"
    },
    "tags": []
   },
   "outputs": [
    {
     "name": "stdout",
     "output_type": "stream",
     "text": [
      "python version: 3.7.12 | packaged by conda-forge | (default, Oct 26 2021, 06:08:53) \n",
      "[GCC 9.4.0]\n",
      "os type: posix\n",
      "os: Linux\n",
      "os release: 5.15.65+\n",
      "/kaggle/input/rsna-breast-cancer-detection/sample_submission.csv\n",
      "/kaggle/input/rsna-breast-cancer-detection/train.csv\n",
      "/kaggle/input/rsna-breast-cancer-detection/test.csv\n",
      "/kaggle/input/monai-whl/monai-1.1.0-202212191849-py3-none-any.whl\n",
      "/kaggle/input/torchio/torchio-0.18.86-py2.py3-none-any.whl\n",
      "/kaggle/input/torchio/Deprecated-1.2.13-py2.py3-none-any.whl\n",
      "/kaggle/input/torchio/shellingham-1.5.0.post1-py2.py3-none-any.whl\n",
      "total train: 54706\n",
      "total test : 4\n"
     ]
    }
   ],
   "source": [
    "# This Python 3 environment comes with many helpful analytics libraries installed\n",
    "# It is defined by the kaggle/python Docker image: https://github.com/kaggle/docker-python\n",
    "# For example, here's several helpful packages to load\n",
    "\n",
    "import numpy as np # linear algebra\n",
    "import pandas as pd # data processing, CSV file I/O (e.g. pd.read_csv)\n",
    "\n",
    "# Input data files are available in the read-only \"../input/\" directory\n",
    "# For example, running this (by clicking run or pressing Shift+Enter) will list all files under the input directory\n",
    "\n",
    "import os, sys, platform\n",
    "\n",
    "print(f\"python version: {sys.version}\")\n",
    "print(f\"os type: {os.name}\")\n",
    "print(f\"os: {platform.system()}\")\n",
    "print(f\"os release: {platform.release()}\")\n",
    "\n",
    "from os.path import join, dirname, basename\n",
    "\n",
    "train_count = 0\n",
    "test_count  = 0\n",
    "for dirname, _, filenames in os.walk('/kaggle/input'):\n",
    "    for filename in filenames:\n",
    "        if \"dcm\" in filename:\n",
    "            if 'test_images' in dirname:\n",
    "                test_count += 1\n",
    "            else:\n",
    "                train_count += 1\n",
    "        else:\n",
    "            print(os.path.join(dirname, filename))\n",
    "\n",
    "print(\"total train:\", train_count)\n",
    "print(\"total test :\", test_count)\n",
    "# You can write up to 20GB to the current directory (/kaggle/working/) that gets preserved as output when you create a version using \"Save & Run All\" \n",
    "# You can also write temporary files to /kaggle/temp/, but they won't be saved outside of the current session"
   ]
  },
  {
   "cell_type": "code",
   "execution_count": 2,
   "id": "13e3b1e3",
   "metadata": {
    "execution": {
     "iopub.execute_input": "2023-01-04T09:34:15.243161Z",
     "iopub.status.busy": "2023-01-04T09:34:15.242752Z",
     "iopub.status.idle": "2023-01-04T09:34:41.874815Z",
     "shell.execute_reply": "2023-01-04T09:34:41.872846Z"
    },
    "papermill": {
     "duration": 26.640976,
     "end_time": "2023-01-04T09:34:41.877945",
     "exception": false,
     "start_time": "2023-01-04T09:34:15.236969",
     "status": "completed"
    },
    "tags": []
   },
   "outputs": [
    {
     "name": "stdout",
     "output_type": "stream",
     "text": [
      "Looking in links: /kaggle/input/monai-whl\r\n",
      "Processing /kaggle/input/monai-whl/monai-1.1.0-202212191849-py3-none-any.whl\r\n",
      "Requirement already satisfied: torch>=1.8 in /opt/conda/lib/python3.7/site-packages (from monai) (1.11.0+cpu)\r\n",
      "Requirement already satisfied: numpy>=1.17 in /opt/conda/lib/python3.7/site-packages (from monai) (1.21.6)\r\n",
      "Requirement already satisfied: typing-extensions in /opt/conda/lib/python3.7/site-packages (from torch>=1.8->monai) (4.4.0)\r\n",
      "Installing collected packages: monai\r\n",
      "Successfully installed monai-1.1.0\r\n",
      "\u001b[33mWARNING: Running pip as the 'root' user can result in broken permissions and conflicting behaviour with the system package manager. It is recommended to use a virtual environment instead: https://pip.pypa.io/warnings/venv\u001b[0m\u001b[33m\r\n",
      "\u001b[0mLooking in links: /kaggle/input/torchio\r\n",
      "Processing /kaggle/input/torchio/torchio-0.18.86-py2.py3-none-any.whl\r\n",
      "Requirement already satisfied: scipy in /opt/conda/lib/python3.7/site-packages (from torchio) (1.7.3)\r\n",
      "Requirement already satisfied: tqdm in /opt/conda/lib/python3.7/site-packages (from torchio) (4.64.0)\r\n",
      "Requirement already satisfied: torch>=1.1 in /opt/conda/lib/python3.7/site-packages (from torchio) (1.11.0+cpu)\r\n",
      "Requirement already satisfied: typer[all] in /opt/conda/lib/python3.7/site-packages (from torchio) (0.4.2)\r\n",
      "Requirement already satisfied: nibabel in /opt/conda/lib/python3.7/site-packages (from torchio) (4.0.2)\r\n",
      "Requirement already satisfied: numpy>=1.15 in /opt/conda/lib/python3.7/site-packages (from torchio) (1.21.6)\r\n",
      "Requirement already satisfied: SimpleITK!=2.0.*,!=2.1.1.1 in /opt/conda/lib/python3.7/site-packages (from torchio) (2.2.0)\r\n",
      "Processing /kaggle/input/torchio/Deprecated-1.2.13-py2.py3-none-any.whl\r\n",
      "Requirement already satisfied: humanize in /opt/conda/lib/python3.7/site-packages (from torchio) (4.4.0)\r\n",
      "Requirement already satisfied: typing-extensions in /opt/conda/lib/python3.7/site-packages (from torch>=1.1->torchio) (4.4.0)\r\n",
      "Requirement already satisfied: wrapt<2,>=1.10 in /opt/conda/lib/python3.7/site-packages (from Deprecated->torchio) (1.12.1)\r\n",
      "Requirement already satisfied: importlib-metadata in /opt/conda/lib/python3.7/site-packages (from humanize->torchio) (4.13.0)\r\n",
      "Requirement already satisfied: packaging>=17.0 in /opt/conda/lib/python3.7/site-packages (from nibabel->torchio) (21.3)\r\n",
      "Requirement already satisfied: setuptools in /opt/conda/lib/python3.7/site-packages (from nibabel->torchio) (59.8.0)\r\n",
      "Requirement already satisfied: click<9.0.0,>=7.1.1 in /opt/conda/lib/python3.7/site-packages (from typer[all]->torchio) (8.0.4)\r\n",
      "Processing /kaggle/input/torchio/shellingham-1.5.0.post1-py2.py3-none-any.whl\r\n",
      "Requirement already satisfied: colorama<0.5.0,>=0.4.3 in /opt/conda/lib/python3.7/site-packages (from typer[all]->torchio) (0.4.5)\r\n",
      "Requirement already satisfied: pyparsing!=3.0.5,>=2.0.2 in /opt/conda/lib/python3.7/site-packages (from packaging>=17.0->nibabel->torchio) (3.0.9)\r\n",
      "Requirement already satisfied: zipp>=0.5 in /opt/conda/lib/python3.7/site-packages (from importlib-metadata->humanize->torchio) (3.8.0)\r\n",
      "Installing collected packages: shellingham, Deprecated, torchio\r\n",
      "Successfully installed Deprecated-1.2.13 shellingham-1.5.0.post1 torchio-0.18.86\r\n",
      "\u001b[33mWARNING: Running pip as the 'root' user can result in broken permissions and conflicting behaviour with the system package manager. It is recommended to use a virtual environment instead: https://pip.pypa.io/warnings/venv\u001b[0m\u001b[33m\r\n",
      "\u001b[0m"
     ]
    }
   ],
   "source": [
    "! pip install --no-index --find-links=/kaggle/input/monai-whl monai\n",
    "! pip install --no-index --find-links=/kaggle/input/torchio torchio"
   ]
  },
  {
   "cell_type": "code",
   "execution_count": 3,
   "id": "26a23704",
   "metadata": {
    "execution": {
     "iopub.execute_input": "2023-01-04T09:34:41.892790Z",
     "iopub.status.busy": "2023-01-04T09:34:41.891481Z",
     "iopub.status.idle": "2023-01-04T09:34:56.209284Z",
     "shell.execute_reply": "2023-01-04T09:34:56.207055Z"
    },
    "papermill": {
     "duration": 14.328092,
     "end_time": "2023-01-04T09:34:56.212225",
     "exception": false,
     "start_time": "2023-01-04T09:34:41.884133",
     "status": "completed"
    },
    "tags": []
   },
   "outputs": [
    {
     "name": "stdout",
     "output_type": "stream",
     "text": [
      "1.1.0\n",
      "0.18.86\n"
     ]
    }
   ],
   "source": [
    "# !pip install monai torchio\n",
    "import pydicom\n",
    "import SimpleITK as sitk\n",
    "import cv2\n",
    "import torch\n",
    "import tensorflow\n",
    "import matplotlib.pyplot as plt\n",
    "# import monai\n",
    "import monai\n",
    "# import torchio\n",
    "import torchio as tio\n",
    "\n",
    "print(monai.__version__)\n",
    "print(tio.__version__)\n",
    "\n",
    "SRC = \"/kaggle/input/rsna-breast-cancer-detection\""
   ]
  },
  {
   "cell_type": "code",
   "execution_count": null,
   "id": "81f90d3d",
   "metadata": {
    "papermill": {
     "duration": 0.004949,
     "end_time": "2023-01-04T09:34:56.222681",
     "exception": false,
     "start_time": "2023-01-04T09:34:56.217732",
     "status": "completed"
    },
    "tags": []
   },
   "outputs": [],
   "source": []
  },
  {
   "cell_type": "code",
   "execution_count": 4,
   "id": "6dfd7243",
   "metadata": {
    "execution": {
     "iopub.execute_input": "2023-01-04T09:34:56.236153Z",
     "iopub.status.busy": "2023-01-04T09:34:56.234834Z",
     "iopub.status.idle": "2023-01-04T09:34:58.447509Z",
     "shell.execute_reply": "2023-01-04T09:34:58.445822Z"
    },
    "papermill": {
     "duration": 2.223101,
     "end_time": "2023-01-04T09:34:58.451064",
     "exception": false,
     "start_time": "2023-01-04T09:34:56.227963",
     "status": "completed"
    },
    "tags": []
   },
   "outputs": [
    {
     "name": "stdout",
     "output_type": "stream",
     "text": [
      "2.3.0\n",
      "/kaggle/working\r\n",
      "------\n",
      "/kaggle/input:\r\n",
      "monai-whl  rsna-breast-cancer-detection  torchio\r\n",
      "\r\n",
      "/kaggle/lib:\r\n",
      "kaggle\r\n",
      "\r\n",
      "/kaggle/src:\r\n",
      "script.ipynb\r\n",
      "\r\n",
      "/kaggle/working:\r\n",
      "__notebook__.ipynb\r\n"
     ]
    }
   ],
   "source": [
    "print(pydicom.__version__)\n",
    "!pwd\n",
    "print('------')\n",
    "!ls /kaggle/*"
   ]
  },
  {
   "cell_type": "code",
   "execution_count": null,
   "id": "320bb4e6",
   "metadata": {
    "papermill": {
     "duration": 0.00548,
     "end_time": "2023-01-04T09:34:58.462447",
     "exception": false,
     "start_time": "2023-01-04T09:34:58.456967",
     "status": "completed"
    },
    "tags": []
   },
   "outputs": [],
   "source": []
  },
  {
   "cell_type": "code",
   "execution_count": 5,
   "id": "f7fbc087",
   "metadata": {
    "execution": {
     "iopub.execute_input": "2023-01-04T09:34:58.476736Z",
     "iopub.status.busy": "2023-01-04T09:34:58.476288Z",
     "iopub.status.idle": "2023-01-04T09:34:59.493964Z",
     "shell.execute_reply": "2023-01-04T09:34:59.493046Z"
    },
    "papermill": {
     "duration": 1.027696,
     "end_time": "2023-01-04T09:34:59.496173",
     "exception": false,
     "start_time": "2023-01-04T09:34:58.468477",
     "status": "completed"
    },
    "tags": []
   },
   "outputs": [
    {
     "data": {
      "text/plain": [
       "(2776, 2082)"
      ]
     },
     "execution_count": 5,
     "metadata": {},
     "output_type": "execute_result"
    }
   ],
   "source": [
    "dcm = pydicom.read_file(\"/kaggle/input/rsna-breast-cancer-detection/test_images/10008/68070693.dcm\")\n",
    "\n",
    "dcm.pixel_array.shape"
   ]
  },
  {
   "cell_type": "code",
   "execution_count": 6,
   "id": "3c5ee8d0",
   "metadata": {
    "execution": {
     "iopub.execute_input": "2023-01-04T09:34:59.510076Z",
     "iopub.status.busy": "2023-01-04T09:34:59.509230Z",
     "iopub.status.idle": "2023-01-04T09:34:59.541242Z",
     "shell.execute_reply": "2023-01-04T09:34:59.539799Z"
    },
    "papermill": {
     "duration": 0.041805,
     "end_time": "2023-01-04T09:34:59.543704",
     "exception": false,
     "start_time": "2023-01-04T09:34:59.501899",
     "status": "completed"
    },
    "tags": []
   },
   "outputs": [
    {
     "data": {
      "text/html": [
       "<div>\n",
       "<style scoped>\n",
       "    .dataframe tbody tr th:only-of-type {\n",
       "        vertical-align: middle;\n",
       "    }\n",
       "\n",
       "    .dataframe tbody tr th {\n",
       "        vertical-align: top;\n",
       "    }\n",
       "\n",
       "    .dataframe thead th {\n",
       "        text-align: right;\n",
       "    }\n",
       "</style>\n",
       "<table border=\"1\" class=\"dataframe\">\n",
       "  <thead>\n",
       "    <tr style=\"text-align: right;\">\n",
       "      <th></th>\n",
       "      <th>prediction_id</th>\n",
       "      <th>cancer</th>\n",
       "    </tr>\n",
       "  </thead>\n",
       "  <tbody>\n",
       "    <tr>\n",
       "      <th>0</th>\n",
       "      <td>10008_L</td>\n",
       "      <td>0.021168</td>\n",
       "    </tr>\n",
       "    <tr>\n",
       "      <th>1</th>\n",
       "      <td>10008_R</td>\n",
       "      <td>0.021168</td>\n",
       "    </tr>\n",
       "  </tbody>\n",
       "</table>\n",
       "</div>"
      ],
      "text/plain": [
       "  prediction_id    cancer\n",
       "0       10008_L  0.021168\n",
       "1       10008_R  0.021168"
      ]
     },
     "execution_count": 6,
     "metadata": {},
     "output_type": "execute_result"
    }
   ],
   "source": [
    "sample = pd.read_csv(join(SRC,\"sample_submission.csv\"))\n",
    "sample"
   ]
  },
  {
   "cell_type": "code",
   "execution_count": 7,
   "id": "d00cfc0e",
   "metadata": {
    "execution": {
     "iopub.execute_input": "2023-01-04T09:34:59.558187Z",
     "iopub.status.busy": "2023-01-04T09:34:59.557419Z",
     "iopub.status.idle": "2023-01-04T09:34:59.576799Z",
     "shell.execute_reply": "2023-01-04T09:34:59.575535Z"
    },
    "papermill": {
     "duration": 0.029809,
     "end_time": "2023-01-04T09:34:59.579473",
     "exception": false,
     "start_time": "2023-01-04T09:34:59.549664",
     "status": "completed"
    },
    "tags": []
   },
   "outputs": [
    {
     "data": {
      "text/html": [
       "<div>\n",
       "<style scoped>\n",
       "    .dataframe tbody tr th:only-of-type {\n",
       "        vertical-align: middle;\n",
       "    }\n",
       "\n",
       "    .dataframe tbody tr th {\n",
       "        vertical-align: top;\n",
       "    }\n",
       "\n",
       "    .dataframe thead th {\n",
       "        text-align: right;\n",
       "    }\n",
       "</style>\n",
       "<table border=\"1\" class=\"dataframe\">\n",
       "  <thead>\n",
       "    <tr style=\"text-align: right;\">\n",
       "      <th></th>\n",
       "      <th>site_id</th>\n",
       "      <th>patient_id</th>\n",
       "      <th>image_id</th>\n",
       "      <th>laterality</th>\n",
       "      <th>view</th>\n",
       "      <th>age</th>\n",
       "      <th>implant</th>\n",
       "      <th>machine_id</th>\n",
       "      <th>prediction_id</th>\n",
       "    </tr>\n",
       "  </thead>\n",
       "  <tbody>\n",
       "    <tr>\n",
       "      <th>0</th>\n",
       "      <td>2</td>\n",
       "      <td>10008</td>\n",
       "      <td>736471439</td>\n",
       "      <td>L</td>\n",
       "      <td>MLO</td>\n",
       "      <td>81</td>\n",
       "      <td>0</td>\n",
       "      <td>21</td>\n",
       "      <td>10008_L</td>\n",
       "    </tr>\n",
       "    <tr>\n",
       "      <th>1</th>\n",
       "      <td>2</td>\n",
       "      <td>10008</td>\n",
       "      <td>1591370361</td>\n",
       "      <td>L</td>\n",
       "      <td>CC</td>\n",
       "      <td>81</td>\n",
       "      <td>0</td>\n",
       "      <td>21</td>\n",
       "      <td>10008_L</td>\n",
       "    </tr>\n",
       "    <tr>\n",
       "      <th>2</th>\n",
       "      <td>2</td>\n",
       "      <td>10008</td>\n",
       "      <td>68070693</td>\n",
       "      <td>R</td>\n",
       "      <td>MLO</td>\n",
       "      <td>81</td>\n",
       "      <td>0</td>\n",
       "      <td>21</td>\n",
       "      <td>10008_R</td>\n",
       "    </tr>\n",
       "    <tr>\n",
       "      <th>3</th>\n",
       "      <td>2</td>\n",
       "      <td>10008</td>\n",
       "      <td>361203119</td>\n",
       "      <td>R</td>\n",
       "      <td>CC</td>\n",
       "      <td>81</td>\n",
       "      <td>0</td>\n",
       "      <td>21</td>\n",
       "      <td>10008_R</td>\n",
       "    </tr>\n",
       "  </tbody>\n",
       "</table>\n",
       "</div>"
      ],
      "text/plain": [
       "   site_id  patient_id    image_id laterality view  age  implant  machine_id  \\\n",
       "0        2       10008   736471439          L  MLO   81        0          21   \n",
       "1        2       10008  1591370361          L   CC   81        0          21   \n",
       "2        2       10008    68070693          R  MLO   81        0          21   \n",
       "3        2       10008   361203119          R   CC   81        0          21   \n",
       "\n",
       "  prediction_id  \n",
       "0       10008_L  \n",
       "1       10008_L  \n",
       "2       10008_R  \n",
       "3       10008_R  "
      ]
     },
     "execution_count": 7,
     "metadata": {},
     "output_type": "execute_result"
    }
   ],
   "source": [
    "test_exl = pd.read_csv(join(SRC,\"test.csv\"))\n",
    "test_exl"
   ]
  },
  {
   "cell_type": "code",
   "execution_count": 8,
   "id": "620837a9",
   "metadata": {
    "execution": {
     "iopub.execute_input": "2023-01-04T09:34:59.594895Z",
     "iopub.status.busy": "2023-01-04T09:34:59.594381Z",
     "iopub.status.idle": "2023-01-04T09:34:59.613707Z",
     "shell.execute_reply": "2023-01-04T09:34:59.612528Z"
    },
    "papermill": {
     "duration": 0.030506,
     "end_time": "2023-01-04T09:34:59.616293",
     "exception": false,
     "start_time": "2023-01-04T09:34:59.585787",
     "status": "completed"
    },
    "tags": []
   },
   "outputs": [
    {
     "data": {
      "text/html": [
       "<div>\n",
       "<style scoped>\n",
       "    .dataframe tbody tr th:only-of-type {\n",
       "        vertical-align: middle;\n",
       "    }\n",
       "\n",
       "    .dataframe tbody tr th {\n",
       "        vertical-align: top;\n",
       "    }\n",
       "\n",
       "    .dataframe thead th {\n",
       "        text-align: right;\n",
       "    }\n",
       "</style>\n",
       "<table border=\"1\" class=\"dataframe\">\n",
       "  <thead>\n",
       "    <tr style=\"text-align: right;\">\n",
       "      <th></th>\n",
       "      <th>prediction_id</th>\n",
       "      <th>cancer</th>\n",
       "    </tr>\n",
       "  </thead>\n",
       "  <tbody>\n",
       "    <tr>\n",
       "      <th>0</th>\n",
       "      <td>10008_L</td>\n",
       "      <td>0.877</td>\n",
       "    </tr>\n",
       "    <tr>\n",
       "      <th>1</th>\n",
       "      <td>10008_R</td>\n",
       "      <td>0.385</td>\n",
       "    </tr>\n",
       "  </tbody>\n",
       "</table>\n",
       "</div>"
      ],
      "text/plain": [
       "  prediction_id  cancer\n",
       "0       10008_L   0.877\n",
       "1       10008_R   0.385"
      ]
     },
     "execution_count": 8,
     "metadata": {},
     "output_type": "execute_result"
    }
   ],
   "source": [
    "results = []\n",
    "prediction_id = np.unique(test_exl.prediction_id.values)\n",
    "for idx in prediction_id:\n",
    "    results.append([idx, np.random.randint(0,1000)/1000])\n",
    "    \n",
    "results = pd.DataFrame(results, columns=['prediction_id','cancer'])\n",
    "results"
   ]
  },
  {
   "cell_type": "code",
   "execution_count": 9,
   "id": "1eba9eb1",
   "metadata": {
    "execution": {
     "iopub.execute_input": "2023-01-04T09:34:59.631927Z",
     "iopub.status.busy": "2023-01-04T09:34:59.631418Z",
     "iopub.status.idle": "2023-01-04T09:34:59.642331Z",
     "shell.execute_reply": "2023-01-04T09:34:59.640693Z"
    },
    "papermill": {
     "duration": 0.022004,
     "end_time": "2023-01-04T09:34:59.645274",
     "exception": false,
     "start_time": "2023-01-04T09:34:59.623270",
     "status": "completed"
    },
    "tags": []
   },
   "outputs": [],
   "source": [
    "results.to_csv('./sample_submission.csv', index=False)\n",
    "results.to_csv('./submission.csv', index=False)"
   ]
  },
  {
   "cell_type": "code",
   "execution_count": null,
   "id": "652ffe0a",
   "metadata": {
    "papermill": {
     "duration": 0.00579,
     "end_time": "2023-01-04T09:34:59.657428",
     "exception": false,
     "start_time": "2023-01-04T09:34:59.651638",
     "status": "completed"
    },
    "tags": []
   },
   "outputs": [],
   "source": []
  },
  {
   "cell_type": "code",
   "execution_count": null,
   "id": "58595572",
   "metadata": {
    "papermill": {
     "duration": 0.005923,
     "end_time": "2023-01-04T09:34:59.670888",
     "exception": false,
     "start_time": "2023-01-04T09:34:59.664965",
     "status": "completed"
    },
    "tags": []
   },
   "outputs": [],
   "source": []
  },
  {
   "cell_type": "code",
   "execution_count": null,
   "id": "c83e8f9b",
   "metadata": {
    "papermill": {
     "duration": 0.005885,
     "end_time": "2023-01-04T09:34:59.682881",
     "exception": false,
     "start_time": "2023-01-04T09:34:59.676996",
     "status": "completed"
    },
    "tags": []
   },
   "outputs": [],
   "source": []
  },
  {
   "cell_type": "code",
   "execution_count": null,
   "id": "79939161",
   "metadata": {
    "papermill": {
     "duration": 0.005868,
     "end_time": "2023-01-04T09:34:59.695020",
     "exception": false,
     "start_time": "2023-01-04T09:34:59.689152",
     "status": "completed"
    },
    "tags": []
   },
   "outputs": [],
   "source": []
  }
 ],
 "metadata": {
  "kernelspec": {
   "display_name": "Python 3 (ipykernel)",
   "language": "python",
   "name": "python3"
  },
  "language_info": {
   "codemirror_mode": {
    "name": "ipython",
    "version": 3
   },
   "file_extension": ".py",
   "mimetype": "text/x-python",
   "name": "python",
   "nbconvert_exporter": "python",
   "pygments_lexer": "ipython3",
   "version": "3.9.12"
  },
  "papermill": {
   "default_parameters": {},
   "duration": 108.338537,
   "end_time": "2023-01-04T09:35:02.576518",
   "environment_variables": {},
   "exception": null,
   "input_path": "__notebook__.ipynb",
   "output_path": "__notebook__.ipynb",
   "parameters": {},
   "start_time": "2023-01-04T09:33:14.237981",
   "version": "2.3.4"
  }
 },
 "nbformat": 4,
 "nbformat_minor": 5
}
