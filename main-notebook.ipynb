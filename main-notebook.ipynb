{
 "cells": [
  {
   "cell_type": "code",
   "execution_count": 1,
   "id": "4ef5ac89",
   "metadata": {
    "execution": {
     "iopub.execute_input": "2023-01-31T09:33:08.123787Z",
     "iopub.status.busy": "2023-01-31T09:33:08.123261Z",
     "iopub.status.idle": "2023-01-31T09:33:38.616173Z",
     "shell.execute_reply": "2023-01-31T09:33:38.615047Z"
    },
    "papermill": {
     "duration": 30.501606,
     "end_time": "2023-01-31T09:33:38.618748",
     "exception": false,
     "start_time": "2023-01-31T09:33:08.117142",
     "status": "completed"
    },
    "tags": []
   },
   "outputs": [
    {
     "name": "stdout",
     "output_type": "stream",
     "text": [
      "Looking in links: /kaggle/input/monai-whl\r\n",
      "Processing /kaggle/input/monai-whl/monai-1.1.0-202212191849-py3-none-any.whl\r\n",
      "Requirement already satisfied: torch>=1.8 in /opt/conda/lib/python3.7/site-packages (from monai) (1.11.0)\r\n",
      "Requirement already satisfied: numpy>=1.17 in /opt/conda/lib/python3.7/site-packages (from monai) (1.21.6)\r\n",
      "Requirement already satisfied: typing-extensions in /opt/conda/lib/python3.7/site-packages (from torch>=1.8->monai) (4.1.1)\r\n",
      "Installing collected packages: monai\r\n",
      "Successfully installed monai-1.1.0\r\n",
      "\u001b[33mWARNING: Running pip as the 'root' user can result in broken permissions and conflicting behaviour with the system package manager. It is recommended to use a virtual environment instead: https://pip.pypa.io/warnings/venv\u001b[0m\u001b[33m\r\n",
      "\u001b[0mLooking in links: /kaggle/input/torchio\r\n",
      "Processing /kaggle/input/torchio/torchio-0.18.86-py2.py3-none-any.whl\r\n",
      "Requirement already satisfied: nibabel in /opt/conda/lib/python3.7/site-packages (from torchio) (4.0.2)\r\n",
      "Requirement already satisfied: scipy in /opt/conda/lib/python3.7/site-packages (from torchio) (1.7.3)\r\n",
      "Requirement already satisfied: numpy>=1.15 in /opt/conda/lib/python3.7/site-packages (from torchio) (1.21.6)\r\n",
      "Requirement already satisfied: torch>=1.1 in /opt/conda/lib/python3.7/site-packages (from torchio) (1.11.0)\r\n",
      "Processing /kaggle/input/torchio/Deprecated-1.2.13-py2.py3-none-any.whl\r\n",
      "Requirement already satisfied: tqdm in /opt/conda/lib/python3.7/site-packages (from torchio) (4.64.0)\r\n",
      "Requirement already satisfied: typer[all] in /opt/conda/lib/python3.7/site-packages (from torchio) (0.4.2)\r\n",
      "Requirement already satisfied: humanize in /opt/conda/lib/python3.7/site-packages (from torchio) (4.4.0)\r\n",
      "Requirement already satisfied: SimpleITK!=2.0.*,!=2.1.1.1 in /opt/conda/lib/python3.7/site-packages (from torchio) (2.2.0)\r\n",
      "Requirement already satisfied: typing-extensions in /opt/conda/lib/python3.7/site-packages (from torch>=1.1->torchio) (4.1.1)\r\n",
      "Requirement already satisfied: wrapt<2,>=1.10 in /opt/conda/lib/python3.7/site-packages (from Deprecated->torchio) (1.12.1)\r\n",
      "Requirement already satisfied: importlib-metadata in /opt/conda/lib/python3.7/site-packages (from humanize->torchio) (4.13.0)\r\n",
      "Requirement already satisfied: packaging>=17.0 in /opt/conda/lib/python3.7/site-packages (from nibabel->torchio) (21.3)\r\n",
      "Requirement already satisfied: setuptools in /opt/conda/lib/python3.7/site-packages (from nibabel->torchio) (59.8.0)\r\n",
      "Requirement already satisfied: click<9.0.0,>=7.1.1 in /opt/conda/lib/python3.7/site-packages (from typer[all]->torchio) (8.0.4)\r\n",
      "Processing /kaggle/input/torchio/shellingham-1.5.0.post1-py2.py3-none-any.whl\r\n",
      "Requirement already satisfied: colorama<0.5.0,>=0.4.3 in /opt/conda/lib/python3.7/site-packages (from typer[all]->torchio) (0.4.5)\r\n",
      "Requirement already satisfied: pyparsing!=3.0.5,>=2.0.2 in /opt/conda/lib/python3.7/site-packages (from packaging>=17.0->nibabel->torchio) (3.0.9)\r\n",
      "Requirement already satisfied: zipp>=0.5 in /opt/conda/lib/python3.7/site-packages (from importlib-metadata->humanize->torchio) (3.8.0)\r\n",
      "Installing collected packages: shellingham, Deprecated, torchio\r\n",
      "Successfully installed Deprecated-1.2.13 shellingham-1.5.0.post1 torchio-0.18.86\r\n",
      "\u001b[33mWARNING: Running pip as the 'root' user can result in broken permissions and conflicting behaviour with the system package manager. It is recommended to use a virtual environment instead: https://pip.pypa.io/warnings/venv\u001b[0m\u001b[33m\r\n",
      "\u001b[0mLooking in links: /kaggle/input/addict\r\n",
      "Processing /kaggle/input/addict/addict-2.4.0-py3-none-any.whl\r\n",
      "Installing collected packages: addict\r\n",
      "Successfully installed addict-2.4.0\r\n",
      "\u001b[33mWARNING: Running pip as the 'root' user can result in broken permissions and conflicting behaviour with the system package manager. It is recommended to use a virtual environment instead: https://pip.pypa.io/warnings/venv\u001b[0m\u001b[33m\r\n",
      "\u001b[0m"
     ]
    }
   ],
   "source": [
    "! pip install --no-index --find-links=/kaggle/input/monai-whl monai\n",
    "! pip install --no-index --find-links=/kaggle/input/torchio torchio\n",
    "! pip install --no-index --find-links=/kaggle/input/addict addict"
   ]
  },
  {
   "cell_type": "code",
   "execution_count": 2,
   "id": "ae0549fa",
   "metadata": {
    "execution": {
     "iopub.execute_input": "2023-01-31T09:33:38.627999Z",
     "iopub.status.busy": "2023-01-31T09:33:38.626471Z",
     "iopub.status.idle": "2023-01-31T09:33:49.220384Z",
     "shell.execute_reply": "2023-01-31T09:33:49.219292Z"
    },
    "papermill": {
     "duration": 10.600502,
     "end_time": "2023-01-31T09:33:49.222706",
     "exception": false,
     "start_time": "2023-01-31T09:33:38.622204",
     "status": "completed"
    },
    "tags": []
   },
   "outputs": [],
   "source": [
    "import os, sys, platform\n",
    "from os.path import join, dirname, basename, abspath\n",
    "import time\n",
    "import numpy as np\n",
    "import pandas as pd\n",
    "import pydicom\n",
    "import SimpleITK as sitk\n",
    "import cv2\n",
    "import torch\n",
    "import tensorflow\n",
    "import matplotlib.pyplot as plt\n",
    "import yaml\n",
    "import h5py\n",
    "import json\n",
    "# import addict\n",
    "from addict import Dict\n",
    "# import monai\n",
    "import monai\n",
    "# import torchio\n",
    "import torchio as tio\n",
    "# import custom classes\n",
    "import importlib\n",
    "\n",
    "repo = \"/kaggle/input/rsna-breast-cancer-2023\"\n",
    "os.chdir(repo)\n",
    "\n",
    "import submission\n",
    "importlib.reload(submission)\n",
    "from submission import Submission"
   ]
  },
  {
   "cell_type": "markdown",
   "id": "f2f26a8e",
   "metadata": {
    "papermill": {
     "duration": 0.003058,
     "end_time": "2023-01-31T09:33:49.229399",
     "exception": false,
     "start_time": "2023-01-31T09:33:49.226341",
     "status": "completed"
    },
    "tags": []
   },
   "source": [
    "## Preprocessing Test Images"
   ]
  },
  {
   "cell_type": "code",
   "execution_count": 3,
   "id": "723c2223",
   "metadata": {
    "execution": {
     "iopub.execute_input": "2023-01-31T09:33:49.238432Z",
     "iopub.status.busy": "2023-01-31T09:33:49.236606Z",
     "iopub.status.idle": "2023-01-31T09:33:54.699717Z",
     "shell.execute_reply": "2023-01-31T09:33:54.698523Z"
    },
    "papermill": {
     "duration": 5.470129,
     "end_time": "2023-01-31T09:33:54.702590",
     "exception": false,
     "start_time": "2023-01-31T09:33:49.232461",
     "status": "completed"
    },
    "tags": []
   },
   "outputs": [
    {
     "name": "stdout",
     "output_type": "stream",
     "text": [
      "Metadata file created in /kaggle/working/preprocessed/metasub.json.\r\n",
      "\r\n",
      "/kaggle/working/preprocessed/mammosub224.h5 created.\r\n",
      "Timesheet created in /kaggle/working/preprocessed/sub_timesheet.json.\r\n"
     ]
    }
   ],
   "source": [
    "! python preprocessing.py -c /kaggle/input/rsna-breast-cancer-2023/config/test_config.yaml"
   ]
  },
  {
   "cell_type": "code",
   "execution_count": 4,
   "id": "41ed721b",
   "metadata": {
    "execution": {
     "iopub.execute_input": "2023-01-31T09:33:54.711069Z",
     "iopub.status.busy": "2023-01-31T09:33:54.710743Z",
     "iopub.status.idle": "2023-01-31T09:33:56.699753Z",
     "shell.execute_reply": "2023-01-31T09:33:56.698346Z"
    },
    "papermill": {
     "duration": 1.997561,
     "end_time": "2023-01-31T09:33:56.703779",
     "exception": false,
     "start_time": "2023-01-31T09:33:54.706218",
     "status": "completed"
    },
    "tags": []
   },
   "outputs": [],
   "source": [
    "! python splitdata.py -c /kaggle/input/rsna-breast-cancer-2023/config/test_config.yaml"
   ]
  },
  {
   "cell_type": "markdown",
   "id": "af4ca869",
   "metadata": {
    "papermill": {
     "duration": 0.00485,
     "end_time": "2023-01-31T09:33:56.714494",
     "exception": false,
     "start_time": "2023-01-31T09:33:56.709644",
     "status": "completed"
    },
    "tags": []
   },
   "source": [
    "## Load and run model"
   ]
  },
  {
   "cell_type": "code",
   "execution_count": 5,
   "id": "faa277b1",
   "metadata": {
    "execution": {
     "iopub.execute_input": "2023-01-31T09:33:56.726920Z",
     "iopub.status.busy": "2023-01-31T09:33:56.726407Z",
     "iopub.status.idle": "2023-01-31T09:34:08.457720Z",
     "shell.execute_reply": "2023-01-31T09:34:08.455968Z"
    },
    "papermill": {
     "duration": 11.740442,
     "end_time": "2023-01-31T09:34:08.460141",
     "exception": false,
     "start_time": "2023-01-31T09:33:56.719699",
     "status": "completed"
    },
    "tags": []
   },
   "outputs": [
    {
     "name": "stdout",
     "output_type": "stream",
     "text": [
      "Samples |███████████████████████████████████████████████████████████████████████████-------------------------| 3/4 \r\n",
      "\n",
      "Start Time: 2023-01-31 09:34:02, End Time: 2023-01-31 09:34:08, Total Time Taken: 0.104 min\n"
     ]
    }
   ],
   "source": [
    "cfile = \"/kaggle/input/rsna-breast-cancer-2023/config/test_config.yaml\"\n",
    "if torch.cuda.is_available():\n",
    "    torch.cuda.empty_cache()\n",
    "cfgs = Dict(yaml.load(open(abspath(cfile), \"r\"), Loader=yaml.Loader))\n",
    "submit = Submission(cfgs)\n",
    "start = time.time()\n",
    "submit.Run()\n",
    "submit.ExportSubmissionCSV()\n",
    "end = time.time()\n",
    "print(\"\\n\")\n",
    "start_s = time.strftime(\"%Y-%m-%d %H:%M:%S\", time.localtime(start))\n",
    "end_s = time.strftime(\"%Y-%m-%d %H:%M:%S\", time.localtime(end))\n",
    "time_taken = end - start\n",
    "if time_taken > 3600.:\n",
    "    divisor = 3600.\n",
    "    suffix = \"hr\"\n",
    "else:\n",
    "    divisor = 60.\n",
    "    suffix = \"min\"\n",
    "print(f\"Start Time: {start_s}, End Time: {end_s}, Total Time Taken: {(time_taken)/divisor:.3f} {suffix}\")"
   ]
  },
  {
   "cell_type": "code",
   "execution_count": 6,
   "id": "5ecd5c6d",
   "metadata": {
    "execution": {
     "iopub.execute_input": "2023-01-31T09:34:08.470261Z",
     "iopub.status.busy": "2023-01-31T09:34:08.468704Z",
     "iopub.status.idle": "2023-01-31T09:34:08.474667Z",
     "shell.execute_reply": "2023-01-31T09:34:08.473795Z"
    },
    "papermill": {
     "duration": 0.012885,
     "end_time": "2023-01-31T09:34:08.476750",
     "exception": false,
     "start_time": "2023-01-31T09:34:08.463865",
     "status": "completed"
    },
    "tags": []
   },
   "outputs": [],
   "source": [
    "os.chdir(\"/kaggle/working/\")"
   ]
  }
 ],
 "metadata": {
  "kernelspec": {
   "display_name": "Python 3",
   "language": "python",
   "name": "python3"
  },
  "language_info": {
   "codemirror_mode": {
    "name": "ipython",
    "version": 3
   },
   "file_extension": ".py",
   "mimetype": "text/x-python",
   "name": "python",
   "nbconvert_exporter": "python",
   "pygments_lexer": "ipython3",
   "version": "3.7.12"
  },
  "papermill": {
   "default_parameters": {},
   "duration": 71.307436,
   "end_time": "2023-01-31T09:34:11.993943",
   "environment_variables": {},
   "exception": null,
   "input_path": "__notebook__.ipynb",
   "output_path": "__notebook__.ipynb",
   "parameters": {},
   "start_time": "2023-01-31T09:33:00.686507",
   "version": "2.3.4"
  }
 },
 "nbformat": 4,
 "nbformat_minor": 5
}
