{
 "cells": [
  {
   "cell_type": "code",
   "execution_count": 1,
   "id": "a7917764",
   "metadata": {
    "execution": {
     "iopub.execute_input": "2023-02-01T02:36:53.640784Z",
     "iopub.status.busy": "2023-02-01T02:36:53.639577Z",
     "iopub.status.idle": "2023-02-01T02:37:24.501515Z",
     "shell.execute_reply": "2023-02-01T02:37:24.500356Z"
    },
    "papermill": {
     "duration": 30.869965,
     "end_time": "2023-02-01T02:37:24.504211",
     "exception": false,
     "start_time": "2023-02-01T02:36:53.634246",
     "status": "completed"
    },
    "tags": []
   },
   "outputs": [
    {
     "name": "stdout",
     "output_type": "stream",
     "text": [
      "Looking in links: /kaggle/input/monai-whl\r\n",
      "Processing /kaggle/input/monai-whl/monai-1.1.0-202212191849-py3-none-any.whl\r\n",
      "Requirement already satisfied: numpy>=1.17 in /opt/conda/lib/python3.7/site-packages (from monai) (1.21.6)\r\n",
      "Requirement already satisfied: torch>=1.8 in /opt/conda/lib/python3.7/site-packages (from monai) (1.11.0)\r\n",
      "Requirement already satisfied: typing-extensions in /opt/conda/lib/python3.7/site-packages (from torch>=1.8->monai) (4.1.1)\r\n",
      "Installing collected packages: monai\r\n",
      "Successfully installed monai-1.1.0\r\n",
      "\u001b[33mWARNING: Running pip as the 'root' user can result in broken permissions and conflicting behaviour with the system package manager. It is recommended to use a virtual environment instead: https://pip.pypa.io/warnings/venv\u001b[0m\u001b[33m\r\n",
      "\u001b[0mLooking in links: /kaggle/input/torchio\r\n",
      "Processing /kaggle/input/torchio/torchio-0.18.86-py2.py3-none-any.whl\r\n",
      "Processing /kaggle/input/torchio/Deprecated-1.2.13-py2.py3-none-any.whl\r\n",
      "Requirement already satisfied: torch>=1.1 in /opt/conda/lib/python3.7/site-packages (from torchio) (1.11.0)\r\n",
      "Requirement already satisfied: typer[all] in /opt/conda/lib/python3.7/site-packages (from torchio) (0.4.2)\r\n",
      "Requirement already satisfied: SimpleITK!=2.0.*,!=2.1.1.1 in /opt/conda/lib/python3.7/site-packages (from torchio) (2.2.0)\r\n",
      "Requirement already satisfied: scipy in /opt/conda/lib/python3.7/site-packages (from torchio) (1.7.3)\r\n",
      "Requirement already satisfied: numpy>=1.15 in /opt/conda/lib/python3.7/site-packages (from torchio) (1.21.6)\r\n",
      "Requirement already satisfied: humanize in /opt/conda/lib/python3.7/site-packages (from torchio) (4.4.0)\r\n",
      "Requirement already satisfied: tqdm in /opt/conda/lib/python3.7/site-packages (from torchio) (4.64.0)\r\n",
      "Requirement already satisfied: nibabel in /opt/conda/lib/python3.7/site-packages (from torchio) (4.0.2)\r\n",
      "Requirement already satisfied: typing-extensions in /opt/conda/lib/python3.7/site-packages (from torch>=1.1->torchio) (4.1.1)\r\n",
      "Requirement already satisfied: wrapt<2,>=1.10 in /opt/conda/lib/python3.7/site-packages (from Deprecated->torchio) (1.12.1)\r\n",
      "Requirement already satisfied: importlib-metadata in /opt/conda/lib/python3.7/site-packages (from humanize->torchio) (4.13.0)\r\n",
      "Requirement already satisfied: packaging>=17.0 in /opt/conda/lib/python3.7/site-packages (from nibabel->torchio) (21.3)\r\n",
      "Requirement already satisfied: setuptools in /opt/conda/lib/python3.7/site-packages (from nibabel->torchio) (59.8.0)\r\n",
      "Requirement already satisfied: click<9.0.0,>=7.1.1 in /opt/conda/lib/python3.7/site-packages (from typer[all]->torchio) (8.0.4)\r\n",
      "Processing /kaggle/input/torchio/shellingham-1.5.0.post1-py2.py3-none-any.whl\r\n",
      "Requirement already satisfied: colorama<0.5.0,>=0.4.3 in /opt/conda/lib/python3.7/site-packages (from typer[all]->torchio) (0.4.5)\r\n",
      "Requirement already satisfied: pyparsing!=3.0.5,>=2.0.2 in /opt/conda/lib/python3.7/site-packages (from packaging>=17.0->nibabel->torchio) (3.0.9)\r\n",
      "Requirement already satisfied: zipp>=0.5 in /opt/conda/lib/python3.7/site-packages (from importlib-metadata->humanize->torchio) (3.8.0)\r\n",
      "Installing collected packages: shellingham, Deprecated, torchio\r\n",
      "Successfully installed Deprecated-1.2.13 shellingham-1.5.0.post1 torchio-0.18.86\r\n",
      "\u001b[33mWARNING: Running pip as the 'root' user can result in broken permissions and conflicting behaviour with the system package manager. It is recommended to use a virtual environment instead: https://pip.pypa.io/warnings/venv\u001b[0m\u001b[33m\r\n",
      "\u001b[0mLooking in links: /kaggle/input/addict\r\n",
      "Processing /kaggle/input/addict/addict-2.4.0-py3-none-any.whl\r\n",
      "Installing collected packages: addict\r\n",
      "Successfully installed addict-2.4.0\r\n",
      "\u001b[33mWARNING: Running pip as the 'root' user can result in broken permissions and conflicting behaviour with the system package manager. It is recommended to use a virtual environment instead: https://pip.pypa.io/warnings/venv\u001b[0m\u001b[33m\r\n",
      "\u001b[0m"
     ]
    }
   ],
   "source": [
    "! pip install --no-index --find-links=/kaggle/input/monai-whl monai\n",
    "! pip install --no-index --find-links=/kaggle/input/torchio torchio\n",
    "! pip install --no-index --find-links=/kaggle/input/addict addict"
   ]
  },
  {
   "cell_type": "code",
   "execution_count": 2,
   "id": "a997b0b1",
   "metadata": {
    "execution": {
     "iopub.execute_input": "2023-02-01T02:37:24.513814Z",
     "iopub.status.busy": "2023-02-01T02:37:24.512811Z",
     "iopub.status.idle": "2023-02-01T02:37:35.381565Z",
     "shell.execute_reply": "2023-02-01T02:37:35.380477Z"
    },
    "papermill": {
     "duration": 10.876277,
     "end_time": "2023-02-01T02:37:35.384365",
     "exception": false,
     "start_time": "2023-02-01T02:37:24.508088",
     "status": "completed"
    },
    "tags": []
   },
   "outputs": [],
   "source": [
    "import os, sys, platform\n",
    "from os.path import join, dirname, basename, abspath\n",
    "import time\n",
    "import numpy as np\n",
    "import pandas as pd\n",
    "import pydicom\n",
    "import SimpleITK as sitk\n",
    "import cv2\n",
    "import torch\n",
    "import tensorflow\n",
    "import matplotlib.pyplot as plt\n",
    "import yaml\n",
    "import h5py\n",
    "import json\n",
    "from glob import glob\n",
    "# import addict\n",
    "from addict import Dict\n",
    "# import monai\n",
    "import monai\n",
    "# import torchio\n",
    "import torchio as tio\n",
    "# import custom classes\n",
    "import importlib\n",
    "\n",
    "repo = \"/kaggle/input/rsna-breast-cancer-2023\"\n",
    "os.chdir(repo)\n",
    "\n",
    "import submission\n",
    "importlib.reload(submission)\n",
    "from submission import Submission"
   ]
  },
  {
   "cell_type": "code",
   "execution_count": 3,
   "id": "3bea2b33",
   "metadata": {
    "execution": {
     "iopub.execute_input": "2023-02-01T02:37:35.392892Z",
     "iopub.status.busy": "2023-02-01T02:37:35.392301Z",
     "iopub.status.idle": "2023-02-01T02:37:35.399817Z",
     "shell.execute_reply": "2023-02-01T02:37:35.398814Z"
    },
    "papermill": {
     "duration": 0.013869,
     "end_time": "2023-02-01T02:37:35.401791",
     "exception": false,
     "start_time": "2023-02-01T02:37:35.387922",
     "status": "completed"
    },
    "tags": []
   },
   "outputs": [],
   "source": [
    "def main(cfile):\n",
    "    if torch.cuda.is_available():\n",
    "        torch.cuda.empty_cache()\n",
    "    cfgs = Dict(yaml.load(open(abspath(cfile), \"r\"), Loader=yaml.Loader))\n",
    "    submit = Submission(cfgs)\n",
    "    start = time.time()\n",
    "    submit.Run()\n",
    "    submit.ExportSubmissionCSV()\n",
    "    end = time.time()\n",
    "    print(\"\\n\")\n",
    "    start_s = time.strftime(\"%Y-%m-%d %H:%M:%S\", time.localtime(start))\n",
    "    end_s = time.strftime(\"%Y-%m-%d %H:%M:%S\", time.localtime(end))\n",
    "    time_taken = end - start\n",
    "    if time_taken > 3600.:\n",
    "        divisor = 3600.\n",
    "        suffix = \"hr\"\n",
    "    else:\n",
    "        divisor = 60.\n",
    "        suffix = \"min\"\n",
    "    print(f\"Start Time: {start_s}, End Time: {end_s}, Total Time Taken: {(time_taken)/divisor:.3f} {suffix}\")"
   ]
  },
  {
   "cell_type": "code",
   "execution_count": 4,
   "id": "92b8a50c",
   "metadata": {
    "execution": {
     "iopub.execute_input": "2023-02-01T02:37:35.409538Z",
     "iopub.status.busy": "2023-02-01T02:37:35.409256Z",
     "iopub.status.idle": "2023-02-01T02:37:35.525017Z",
     "shell.execute_reply": "2023-02-01T02:37:35.524065Z"
    },
    "papermill": {
     "duration": 0.122433,
     "end_time": "2023-02-01T02:37:35.527521",
     "exception": false,
     "start_time": "2023-02-01T02:37:35.405088",
     "status": "completed"
    },
    "tags": []
   },
   "outputs": [],
   "source": [
    "save_path = \"/kaggle/working/submission.csv\"\n",
    "test_md_path = \"/kaggle/input/rsna-breast-cancer-detection/train.csv\"\n",
    "test_md = pd.read_csv(test_md_path)\n",
    "pats = test_md[\"patient_id\"].tolist()\n",
    "lats = test_md[\"laterality\"].tolist()\n",
    "pat_ids = [\"_\".join(item) for item in zip(map(str, pats), lats)]\n",
    "rand_cancer = np.random.rand(len(pat_ids))\n",
    "result = pd.DataFrame({\"prediction_id\": pat_ids, \"cancer\": rand_cancer})"
   ]
  },
  {
   "cell_type": "markdown",
   "id": "c743547c",
   "metadata": {
    "papermill": {
     "duration": 0.003133,
     "end_time": "2023-02-01T02:37:35.534218",
     "exception": false,
     "start_time": "2023-02-01T02:37:35.531085",
     "status": "completed"
    },
    "tags": []
   },
   "source": [
    "## Preprocessing Test Images"
   ]
  },
  {
   "cell_type": "code",
   "execution_count": 5,
   "id": "8c18fa89",
   "metadata": {
    "execution": {
     "iopub.execute_input": "2023-02-01T02:37:35.543193Z",
     "iopub.status.busy": "2023-02-01T02:37:35.541743Z",
     "iopub.status.idle": "2023-02-01T02:37:35.655850Z",
     "shell.execute_reply": "2023-02-01T02:37:35.654638Z"
    },
    "papermill": {
     "duration": 0.121046,
     "end_time": "2023-02-01T02:37:35.658527",
     "exception": false,
     "start_time": "2023-02-01T02:37:35.537481",
     "status": "completed"
    },
    "tags": []
   },
   "outputs": [],
   "source": [
    "continue_test = True\n",
    "try:\n",
    "    subprocess.run([\"python\", \"preprocessing.py\", \"-c\", \"/kaggle/input/rsna-breast-cancer-2023/config/test_config.yaml\"])\n",
    "    subprocess.run([\"python\", \"splitdata.py\", \"-c\", \"/kaggle/input/rsna-breast-cancer-2023/config/test_config.yaml\"])\n",
    "except:\n",
    "    continue_test = False\n",
    "    result.to_csv(save_path, index=False)"
   ]
  },
  {
   "cell_type": "markdown",
   "id": "3f093002",
   "metadata": {
    "papermill": {
     "duration": 0.003437,
     "end_time": "2023-02-01T02:37:35.665725",
     "exception": false,
     "start_time": "2023-02-01T02:37:35.662288",
     "status": "completed"
    },
    "tags": []
   },
   "source": [
    "## Load and run model"
   ]
  },
  {
   "cell_type": "code",
   "execution_count": 6,
   "id": "945eceae",
   "metadata": {
    "execution": {
     "iopub.execute_input": "2023-02-01T02:37:35.675687Z",
     "iopub.status.busy": "2023-02-01T02:37:35.674142Z",
     "iopub.status.idle": "2023-02-01T02:37:35.680251Z",
     "shell.execute_reply": "2023-02-01T02:37:35.679362Z"
    },
    "papermill": {
     "duration": 0.012894,
     "end_time": "2023-02-01T02:37:35.682159",
     "exception": false,
     "start_time": "2023-02-01T02:37:35.669265",
     "status": "completed"
    },
    "tags": []
   },
   "outputs": [],
   "source": [
    "if continue_test:\n",
    "    try:\n",
    "        config_file = \"/kaggle/input/rsna-breast-cancer-2023/config/test_config.yaml\"\n",
    "        main(config_file)\n",
    "    except:\n",
    "        result.to_csv(save_path, index=False)"
   ]
  },
  {
   "cell_type": "code",
   "execution_count": 7,
   "id": "ab787235",
   "metadata": {
    "execution": {
     "iopub.execute_input": "2023-02-01T02:37:35.691630Z",
     "iopub.status.busy": "2023-02-01T02:37:35.690746Z",
     "iopub.status.idle": "2023-02-01T02:37:35.696265Z",
     "shell.execute_reply": "2023-02-01T02:37:35.695378Z"
    },
    "papermill": {
     "duration": 0.012623,
     "end_time": "2023-02-01T02:37:35.698304",
     "exception": false,
     "start_time": "2023-02-01T02:37:35.685681",
     "status": "completed"
    },
    "tags": []
   },
   "outputs": [],
   "source": [
    "os.chdir(\"/kaggle/working/\")"
   ]
  }
 ],
 "metadata": {
  "kernelspec": {
   "display_name": "Python 3",
   "language": "python",
   "name": "python3"
  },
  "language_info": {
   "codemirror_mode": {
    "name": "ipython",
    "version": 3
   },
   "file_extension": ".py",
   "mimetype": "text/x-python",
   "name": "python",
   "nbconvert_exporter": "python",
   "pygments_lexer": "ipython3",
   "version": "3.7.12"
  },
  "papermill": {
   "default_parameters": {},
   "duration": 53.358392,
   "end_time": "2023-02-01T02:37:38.690655",
   "environment_variables": {},
   "exception": null,
   "input_path": "__notebook__.ipynb",
   "output_path": "__notebook__.ipynb",
   "parameters": {},
   "start_time": "2023-02-01T02:36:45.332263",
   "version": "2.3.4"
  }
 },
 "nbformat": 4,
 "nbformat_minor": 5
}
