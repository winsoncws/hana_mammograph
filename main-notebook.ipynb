{
 "cells": [
  {
   "cell_type": "code",
   "execution_count": 1,
   "id": "fce57e39",
   "metadata": {
    "execution": {
     "iopub.execute_input": "2023-02-02T04:26:47.947008Z",
     "iopub.status.busy": "2023-02-02T04:26:47.946098Z",
     "iopub.status.idle": "2023-02-02T04:27:18.455320Z",
     "shell.execute_reply": "2023-02-02T04:27:18.454213Z"
    },
    "papermill": {
     "duration": 30.51814,
     "end_time": "2023-02-02T04:27:18.457923",
     "exception": false,
     "start_time": "2023-02-02T04:26:47.939783",
     "status": "completed"
    },
    "tags": []
   },
   "outputs": [
    {
     "name": "stdout",
     "output_type": "stream",
     "text": [
      "Looking in links: /kaggle/input/monai-whl\r\n",
      "Processing /kaggle/input/monai-whl/monai-1.1.0-202212191849-py3-none-any.whl\r\n",
      "Requirement already satisfied: numpy>=1.17 in /opt/conda/lib/python3.7/site-packages (from monai) (1.21.6)\r\n",
      "Requirement already satisfied: torch>=1.8 in /opt/conda/lib/python3.7/site-packages (from monai) (1.11.0)\r\n",
      "Requirement already satisfied: typing-extensions in /opt/conda/lib/python3.7/site-packages (from torch>=1.8->monai) (4.1.1)\r\n",
      "Installing collected packages: monai\r\n",
      "Successfully installed monai-1.1.0\r\n",
      "\u001b[33mWARNING: Running pip as the 'root' user can result in broken permissions and conflicting behaviour with the system package manager. It is recommended to use a virtual environment instead: https://pip.pypa.io/warnings/venv\u001b[0m\u001b[33m\r\n",
      "\u001b[0mLooking in links: /kaggle/input/torchio\r\n",
      "Processing /kaggle/input/torchio/torchio-0.18.86-py2.py3-none-any.whl\r\n",
      "Requirement already satisfied: SimpleITK!=2.0.*,!=2.1.1.1 in /opt/conda/lib/python3.7/site-packages (from torchio) (2.2.0)\r\n",
      "Requirement already satisfied: humanize in /opt/conda/lib/python3.7/site-packages (from torchio) (4.4.0)\r\n",
      "Requirement already satisfied: nibabel in /opt/conda/lib/python3.7/site-packages (from torchio) (4.0.2)\r\n",
      "Requirement already satisfied: tqdm in /opt/conda/lib/python3.7/site-packages (from torchio) (4.64.0)\r\n",
      "Requirement already satisfied: typer[all] in /opt/conda/lib/python3.7/site-packages (from torchio) (0.4.2)\r\n",
      "Processing /kaggle/input/torchio/Deprecated-1.2.13-py2.py3-none-any.whl\r\n",
      "Requirement already satisfied: torch>=1.1 in /opt/conda/lib/python3.7/site-packages (from torchio) (1.11.0)\r\n",
      "Requirement already satisfied: scipy in /opt/conda/lib/python3.7/site-packages (from torchio) (1.7.3)\r\n",
      "Requirement already satisfied: numpy>=1.15 in /opt/conda/lib/python3.7/site-packages (from torchio) (1.21.6)\r\n",
      "Requirement already satisfied: typing-extensions in /opt/conda/lib/python3.7/site-packages (from torch>=1.1->torchio) (4.1.1)\r\n",
      "Requirement already satisfied: wrapt<2,>=1.10 in /opt/conda/lib/python3.7/site-packages (from Deprecated->torchio) (1.12.1)\r\n",
      "Requirement already satisfied: importlib-metadata in /opt/conda/lib/python3.7/site-packages (from humanize->torchio) (4.13.0)\r\n",
      "Requirement already satisfied: setuptools in /opt/conda/lib/python3.7/site-packages (from nibabel->torchio) (59.8.0)\r\n",
      "Requirement already satisfied: packaging>=17.0 in /opt/conda/lib/python3.7/site-packages (from nibabel->torchio) (21.3)\r\n",
      "Requirement already satisfied: click<9.0.0,>=7.1.1 in /opt/conda/lib/python3.7/site-packages (from typer[all]->torchio) (8.0.4)\r\n",
      "Processing /kaggle/input/torchio/shellingham-1.5.0.post1-py2.py3-none-any.whl\r\n",
      "Requirement already satisfied: colorama<0.5.0,>=0.4.3 in /opt/conda/lib/python3.7/site-packages (from typer[all]->torchio) (0.4.5)\r\n",
      "Requirement already satisfied: pyparsing!=3.0.5,>=2.0.2 in /opt/conda/lib/python3.7/site-packages (from packaging>=17.0->nibabel->torchio) (3.0.9)\r\n",
      "Requirement already satisfied: zipp>=0.5 in /opt/conda/lib/python3.7/site-packages (from importlib-metadata->humanize->torchio) (3.8.0)\r\n",
      "Installing collected packages: shellingham, Deprecated, torchio\r\n",
      "Successfully installed Deprecated-1.2.13 shellingham-1.5.0.post1 torchio-0.18.86\r\n",
      "\u001b[33mWARNING: Running pip as the 'root' user can result in broken permissions and conflicting behaviour with the system package manager. It is recommended to use a virtual environment instead: https://pip.pypa.io/warnings/venv\u001b[0m\u001b[33m\r\n",
      "\u001b[0mLooking in links: /kaggle/input/addict\r\n",
      "Processing /kaggle/input/addict/addict-2.4.0-py3-none-any.whl\r\n",
      "Installing collected packages: addict\r\n",
      "Successfully installed addict-2.4.0\r\n",
      "\u001b[33mWARNING: Running pip as the 'root' user can result in broken permissions and conflicting behaviour with the system package manager. It is recommended to use a virtual environment instead: https://pip.pypa.io/warnings/venv\u001b[0m\u001b[33m\r\n",
      "\u001b[0m"
     ]
    }
   ],
   "source": [
    "! pip install --no-index --find-links=/kaggle/input/monai-whl monai\n",
    "! pip install --no-index --find-links=/kaggle/input/torchio torchio\n",
    "! pip install --no-index --find-links=/kaggle/input/addict addict"
   ]
  },
  {
   "cell_type": "code",
   "execution_count": 2,
   "id": "5e99f225",
   "metadata": {
    "execution": {
     "iopub.execute_input": "2023-02-02T04:27:18.465849Z",
     "iopub.status.busy": "2023-02-02T04:27:18.465070Z",
     "iopub.status.idle": "2023-02-02T04:27:29.483749Z",
     "shell.execute_reply": "2023-02-02T04:27:29.482703Z"
    },
    "papermill": {
     "duration": 11.025166,
     "end_time": "2023-02-02T04:27:29.486209",
     "exception": false,
     "start_time": "2023-02-02T04:27:18.461043",
     "status": "completed"
    },
    "tags": []
   },
   "outputs": [],
   "source": [
    "import os, sys, platform, subprocess\n",
    "repo = \"/kaggle/input/rsna-breast-cancer-2023/\"\n",
    "sys.path.insert(0, repo)\n",
    "from os.path import join, dirname, basename, abspath\n",
    "import time\n",
    "import numpy as np\n",
    "import pandas as pd\n",
    "import pydicom\n",
    "import SimpleITK as sitk\n",
    "import cv2\n",
    "import torch\n",
    "import tensorflow\n",
    "import matplotlib.pyplot as plt\n",
    "import yaml\n",
    "import h5py\n",
    "import json\n",
    "from glob import glob\n",
    "# import addict\n",
    "from addict import Dict\n",
    "# import monai\n",
    "import monai\n",
    "# import torchio\n",
    "import torchio as tio\n",
    "# import custom classes\n",
    "\n",
    "from submission import Submission\n",
    "from preprocessing import MammoPreprocess, MetadataPreprocess\n",
    "from splitdata import SplitData"
   ]
  },
  {
   "cell_type": "code",
   "execution_count": 3,
   "id": "434ef2bf",
   "metadata": {
    "execution": {
     "iopub.execute_input": "2023-02-02T04:27:29.493994Z",
     "iopub.status.busy": "2023-02-02T04:27:29.493432Z",
     "iopub.status.idle": "2023-02-02T04:27:29.506086Z",
     "shell.execute_reply": "2023-02-02T04:27:29.505247Z"
    },
    "papermill": {
     "duration": 0.018851,
     "end_time": "2023-02-02T04:27:29.508137",
     "exception": false,
     "start_time": "2023-02-02T04:27:29.489286",
     "status": "completed"
    },
    "tags": []
   },
   "outputs": [],
   "source": [
    "def randresult(md_path):\n",
    "    test_md = pd.read_csv(md_path)\n",
    "    pats = test_md[\"patient_id\"].tolist()\n",
    "    lats = test_md[\"laterality\"].tolist()\n",
    "    pat_ids = [\"_\".join(item) for item in zip(map(str, pats), lats)]\n",
    "    rand_cancer = np.random.rand(len(pat_ids))\n",
    "    raw_results = pd.DataFrame({\"prediction_id\": pat_ids, \"cancer\": rand_cancer})\n",
    "    results = raw_results.groupby(\"prediction_id\")[\"cancer\"].mean()\n",
    "    return results\n",
    "\n",
    "def preprocess_loop(cfgs):\n",
    "    timesheet = Dict()\n",
    "    prep_init_start = time.time()\n",
    "    paths = cfgs.paths\n",
    "    pcfgs = cfgs.preprocess_params\n",
    "    data_prep = MammoPreprocess(paths.data_src, paths.data_dest,\n",
    "                                                  pcfgs.file_extension, pcfgs.resolution,\n",
    "                                                  pcfgs.init_downsample_ratio,\n",
    "                                                  pcfgs.normalization)\n",
    "    prep_init_end = time.time()\n",
    "    prep_init_time = prep_init_end - prep_init_start\n",
    "\n",
    "    mcfgs = cfgs.metadata_params\n",
    "    md_init_start = time.time()\n",
    "    mdata_prep = MetadataPreprocess(paths.metadata_src, paths.metadata_dest,\n",
    "                                    mcfgs)\n",
    "    md_init_end = time.time()\n",
    "    md_init_time = md_init_end - md_init_start\n",
    "\n",
    "    md_proc_start = time.time()\n",
    "    mdata_prep.GenerateMetadata()\n",
    "    mdata_prep.Save()\n",
    "    md_proc_end = time.time()\n",
    "    md_proc_time = md_proc_end - md_proc_start\n",
    "\n",
    "    prep_proc_start = time.time()\n",
    "    data_prep.GenerateDataset()\n",
    "    prep_proc_end = time.time()\n",
    "    prep_proc_time = prep_proc_end - prep_proc_start\n",
    "\n",
    "    timesheet.metadata.initialization = md_init_time\n",
    "    timesheet.metadata.process = md_proc_time\n",
    "    timesheet.preprocessing.initialization = prep_init_time\n",
    "    timesheet.preprocessing.process = prep_proc_time\n",
    "\n",
    "    with open(paths.timesheet_dest, \"w\") as f:\n",
    "        json.dump(timesheet, f, indent=4)\n",
    "    print(f\"Timesheet created in {paths.timesheet_dest}.\")\n",
    "    return\n",
    "\n",
    "def splitdata_loop(cfgs):\n",
    "    paths = cfgs.paths\n",
    "    SplitData(paths.metadata_dest, paths.data_ids_dest,\n",
    "         cfgs.preprocess_params.test_set,\n",
    "         cfgs.preprocess_params.num_samples,\n",
    "         cfgs.preprocess_params.test_size)\n",
    "    return\n",
    "\n",
    "def main(cfile):\n",
    "    cfgs = Dict(yaml.load(open(abspath(cfile), \"r\"), Loader=yaml.Loader))\n",
    "    preprocess_loop(cfgs)\n",
    "    splitdata_loop(cfgs)"
   ]
  },
  {
   "cell_type": "code",
   "execution_count": 4,
   "id": "a77989c0",
   "metadata": {
    "execution": {
     "iopub.execute_input": "2023-02-02T04:27:29.514623Z",
     "iopub.status.busy": "2023-02-02T04:27:29.514371Z",
     "iopub.status.idle": "2023-02-02T04:27:32.216466Z",
     "shell.execute_reply": "2023-02-02T04:27:32.215356Z"
    },
    "papermill": {
     "duration": 2.708826,
     "end_time": "2023-02-02T04:27:32.219630",
     "exception": false,
     "start_time": "2023-02-02T04:27:29.510804",
     "status": "completed"
    },
    "tags": []
   },
   "outputs": [
    {
     "name": "stdout",
     "output_type": "stream",
     "text": [
      "Metadata file created in /kaggle/working/preprocessed/metasub.json.\n",
      "Preprocessing |████████████████████████████████████████████████████████████████████████████████████████████████████| 4/4 Images\r\n",
      "/kaggle/working/preprocessed/mammosub224.h5 created.\n",
      "Timesheet created in /kaggle/working/preprocessed/sub_timesheet.json.\n"
     ]
    }
   ],
   "source": [
    "test_md_path = \"/kaggle/input/rsna-breast-cancer-detection/test.csv\"\n",
    "config_file = os.path.join(repo, \"config/test_config.yaml\")\n",
    "main(config_file)"
   ]
  },
  {
   "cell_type": "code",
   "execution_count": 5,
   "id": "19155a92",
   "metadata": {
    "execution": {
     "iopub.execute_input": "2023-02-02T04:27:32.227884Z",
     "iopub.status.busy": "2023-02-02T04:27:32.227572Z",
     "iopub.status.idle": "2023-02-02T04:27:32.240444Z",
     "shell.execute_reply": "2023-02-02T04:27:32.239604Z"
    },
    "papermill": {
     "duration": 0.018933,
     "end_time": "2023-02-02T04:27:32.242561",
     "exception": false,
     "start_time": "2023-02-02T04:27:32.223628",
     "status": "completed"
    },
    "tags": []
   },
   "outputs": [],
   "source": [
    "res = randresult(test_md_path)\n",
    "res.to_csv(\"/kaggle/working/submission.csv\", index=True)"
   ]
  }
 ],
 "metadata": {
  "kernelspec": {
   "display_name": "Python 3",
   "language": "python",
   "name": "python3"
  },
  "language_info": {
   "codemirror_mode": {
    "name": "ipython",
    "version": 3
   },
   "file_extension": ".py",
   "mimetype": "text/x-python",
   "name": "python",
   "nbconvert_exporter": "python",
   "pygments_lexer": "ipython3",
   "version": "3.7.12"
  },
  "papermill": {
   "default_parameters": {},
   "duration": 55.27539,
   "end_time": "2023-02-02T04:27:35.736565",
   "environment_variables": {},
   "exception": null,
   "input_path": "__notebook__.ipynb",
   "output_path": "__notebook__.ipynb",
   "parameters": {},
   "start_time": "2023-02-02T04:26:40.461175",
   "version": "2.3.4"
  }
 },
 "nbformat": 4,
 "nbformat_minor": 5
}
