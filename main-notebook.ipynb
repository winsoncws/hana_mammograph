{
 "cells": [
  {
   "cell_type": "code",
   "execution_count": 1,
   "id": "97e8b1f1",
   "metadata": {
    "execution": {
     "iopub.execute_input": "2023-01-31T06:20:27.826876Z",
     "iopub.status.busy": "2023-01-31T06:20:27.826011Z",
     "iopub.status.idle": "2023-01-31T06:20:28.339797Z",
     "shell.execute_reply": "2023-01-31T06:20:28.338830Z"
    },
    "papermill": {
     "duration": 0.521958,
     "end_time": "2023-01-31T06:20:28.342370",
     "exception": false,
     "start_time": "2023-01-31T06:20:27.820412",
     "status": "completed"
    },
    "tags": []
   },
   "outputs": [],
   "source": [
    "try:\n",
    "    import subprocess, os\n",
    "    from kaggle_secrets import UserSecretsClient\n",
    "    user_secrets = UserSecretsClient()\n",
    "    token = user_secrets.get_secret(\"token\")\n",
    "except:\n",
    "    pass\n",
    "repo = \"/kaggle/working/RSNABreastCancer2023\""
   ]
  },
  {
   "cell_type": "code",
   "execution_count": 2,
   "id": "13a16d2b",
   "metadata": {
    "execution": {
     "iopub.execute_input": "2023-01-31T06:20:28.350193Z",
     "iopub.status.busy": "2023-01-31T06:20:28.349374Z",
     "iopub.status.idle": "2023-01-31T06:20:30.216987Z",
     "shell.execute_reply": "2023-01-31T06:20:30.215749Z"
    },
    "papermill": {
     "duration": 1.874028,
     "end_time": "2023-01-31T06:20:30.219692",
     "exception": false,
     "start_time": "2023-01-31T06:20:28.345664",
     "status": "completed"
    },
    "tags": []
   },
   "outputs": [
    {
     "name": "stderr",
     "output_type": "stream",
     "text": [
      "Cloning into 'RSNABreastCancer2023'...\n"
     ]
    }
   ],
   "source": [
    "%%capture\n",
    "try:\n",
    "    if not os.path.isdir(repo):\n",
    "        subprocess.run([\"git\", \"clone\", f\"https://{token}@github.com/isaiahchua/RSNABreastCancer2023.git\"])\n",
    "except:\n",
    "    pass"
   ]
  },
  {
   "cell_type": "code",
   "execution_count": 3,
   "id": "f98365ec",
   "metadata": {
    "execution": {
     "iopub.execute_input": "2023-01-31T06:20:30.227037Z",
     "iopub.status.busy": "2023-01-31T06:20:30.226699Z",
     "iopub.status.idle": "2023-01-31T06:20:31.354398Z",
     "shell.execute_reply": "2023-01-31T06:20:31.352716Z"
    },
    "papermill": {
     "duration": 1.134715,
     "end_time": "2023-01-31T06:20:31.357450",
     "exception": false,
     "start_time": "2023-01-31T06:20:30.222735",
     "status": "completed"
    },
    "tags": []
   },
   "outputs": [
    {
     "name": "stdout",
     "output_type": "stream",
     "text": [
      "Already up to date.\n"
     ]
    }
   ],
   "source": [
    "os.chdir(repo)\n",
    "try:\n",
    "    subprocess.run([\"git\", \"pull\"])\n",
    "except:\n",
    "    pass"
   ]
  },
  {
   "cell_type": "code",
   "execution_count": 4,
   "id": "60b13880",
   "metadata": {
    "execution": {
     "iopub.execute_input": "2023-01-31T06:20:31.365227Z",
     "iopub.status.busy": "2023-01-31T06:20:31.364904Z",
     "iopub.status.idle": "2023-01-31T06:21:02.155902Z",
     "shell.execute_reply": "2023-01-31T06:21:02.154629Z"
    },
    "papermill": {
     "duration": 30.797496,
     "end_time": "2023-01-31T06:21:02.158397",
     "exception": false,
     "start_time": "2023-01-31T06:20:31.360901",
     "status": "completed"
    },
    "tags": []
   },
   "outputs": [
    {
     "name": "stdout",
     "output_type": "stream",
     "text": [
      "Looking in links: /kaggle/input/monai-whl\r\n",
      "Processing /kaggle/input/monai-whl/monai-1.1.0-202212191849-py3-none-any.whl\r\n",
      "Requirement already satisfied: torch>=1.8 in /opt/conda/lib/python3.7/site-packages (from monai) (1.11.0)\r\n",
      "Requirement already satisfied: numpy>=1.17 in /opt/conda/lib/python3.7/site-packages (from monai) (1.21.6)\r\n",
      "Requirement already satisfied: typing-extensions in /opt/conda/lib/python3.7/site-packages (from torch>=1.8->monai) (4.1.1)\r\n",
      "Installing collected packages: monai\r\n",
      "Successfully installed monai-1.1.0\r\n",
      "\u001b[33mWARNING: Running pip as the 'root' user can result in broken permissions and conflicting behaviour with the system package manager. It is recommended to use a virtual environment instead: https://pip.pypa.io/warnings/venv\u001b[0m\u001b[33m\r\n",
      "\u001b[0mLooking in links: /kaggle/input/torchio\r\n",
      "Processing /kaggle/input/torchio/torchio-0.18.86-py2.py3-none-any.whl\r\n",
      "Requirement already satisfied: SimpleITK!=2.0.*,!=2.1.1.1 in /opt/conda/lib/python3.7/site-packages (from torchio) (2.2.0)\r\n",
      "Requirement already satisfied: typer[all] in /opt/conda/lib/python3.7/site-packages (from torchio) (0.4.2)\r\n",
      "Processing /kaggle/input/torchio/Deprecated-1.2.13-py2.py3-none-any.whl\r\n",
      "Requirement already satisfied: nibabel in /opt/conda/lib/python3.7/site-packages (from torchio) (4.0.2)\r\n",
      "Requirement already satisfied: numpy>=1.15 in /opt/conda/lib/python3.7/site-packages (from torchio) (1.21.6)\r\n",
      "Requirement already satisfied: humanize in /opt/conda/lib/python3.7/site-packages (from torchio) (4.4.0)\r\n",
      "Requirement already satisfied: tqdm in /opt/conda/lib/python3.7/site-packages (from torchio) (4.64.0)\r\n",
      "Requirement already satisfied: scipy in /opt/conda/lib/python3.7/site-packages (from torchio) (1.7.3)\r\n",
      "Requirement already satisfied: torch>=1.1 in /opt/conda/lib/python3.7/site-packages (from torchio) (1.11.0)\r\n",
      "Requirement already satisfied: typing-extensions in /opt/conda/lib/python3.7/site-packages (from torch>=1.1->torchio) (4.1.1)\r\n",
      "Requirement already satisfied: wrapt<2,>=1.10 in /opt/conda/lib/python3.7/site-packages (from Deprecated->torchio) (1.12.1)\r\n",
      "Requirement already satisfied: importlib-metadata in /opt/conda/lib/python3.7/site-packages (from humanize->torchio) (4.13.0)\r\n",
      "Requirement already satisfied: packaging>=17.0 in /opt/conda/lib/python3.7/site-packages (from nibabel->torchio) (21.3)\r\n",
      "Requirement already satisfied: setuptools in /opt/conda/lib/python3.7/site-packages (from nibabel->torchio) (59.8.0)\r\n",
      "Requirement already satisfied: click<9.0.0,>=7.1.1 in /opt/conda/lib/python3.7/site-packages (from typer[all]->torchio) (8.0.4)\r\n",
      "Requirement already satisfied: colorama<0.5.0,>=0.4.3 in /opt/conda/lib/python3.7/site-packages (from typer[all]->torchio) (0.4.5)\r\n",
      "Processing /kaggle/input/torchio/shellingham-1.5.0.post1-py2.py3-none-any.whl\r\n",
      "Requirement already satisfied: pyparsing!=3.0.5,>=2.0.2 in /opt/conda/lib/python3.7/site-packages (from packaging>=17.0->nibabel->torchio) (3.0.9)\r\n",
      "Requirement already satisfied: zipp>=0.5 in /opt/conda/lib/python3.7/site-packages (from importlib-metadata->humanize->torchio) (3.8.0)\r\n",
      "Installing collected packages: shellingham, Deprecated, torchio\r\n",
      "Successfully installed Deprecated-1.2.13 shellingham-1.5.0.post1 torchio-0.18.86\r\n",
      "\u001b[33mWARNING: Running pip as the 'root' user can result in broken permissions and conflicting behaviour with the system package manager. It is recommended to use a virtual environment instead: https://pip.pypa.io/warnings/venv\u001b[0m\u001b[33m\r\n",
      "\u001b[0mLooking in links: /kaggle/input/addict\r\n",
      "Processing /kaggle/input/addict/addict-2.4.0-py3-none-any.whl\r\n",
      "Installing collected packages: addict\r\n",
      "Successfully installed addict-2.4.0\r\n",
      "\u001b[33mWARNING: Running pip as the 'root' user can result in broken permissions and conflicting behaviour with the system package manager. It is recommended to use a virtual environment instead: https://pip.pypa.io/warnings/venv\u001b[0m\u001b[33m\r\n",
      "\u001b[0m"
     ]
    }
   ],
   "source": [
    "! pip install --no-index --find-links=/kaggle/input/monai-whl monai\n",
    "! pip install --no-index --find-links=/kaggle/input/torchio torchio\n",
    "! pip install --no-index --find-links=/kaggle/input/addict addict"
   ]
  },
  {
   "cell_type": "code",
   "execution_count": 5,
   "id": "a0687902",
   "metadata": {
    "execution": {
     "iopub.execute_input": "2023-01-31T06:21:02.167710Z",
     "iopub.status.busy": "2023-01-31T06:21:02.167380Z",
     "iopub.status.idle": "2023-01-31T06:21:13.951213Z",
     "shell.execute_reply": "2023-01-31T06:21:13.950098Z"
    },
    "papermill": {
     "duration": 11.791588,
     "end_time": "2023-01-31T06:21:13.953927",
     "exception": false,
     "start_time": "2023-01-31T06:21:02.162339",
     "status": "completed"
    },
    "tags": []
   },
   "outputs": [],
   "source": [
    "import os, sys, platform\n",
    "from os.path import join, dirname, basename, abspath\n",
    "import time\n",
    "import numpy as np\n",
    "import pandas as pd\n",
    "import pydicom\n",
    "import SimpleITK as sitk\n",
    "import cv2\n",
    "import torch\n",
    "import tensorflow\n",
    "import matplotlib.pyplot as plt\n",
    "import yaml\n",
    "import h5py\n",
    "import json\n",
    "# import addict\n",
    "from addict import Dict\n",
    "# import monai\n",
    "import monai\n",
    "# import torchio\n",
    "import torchio as tio\n",
    "# import custom classes\n",
    "import importlib\n",
    "import submission\n",
    "importlib.reload(submission)\n",
    "from submission import Submission"
   ]
  },
  {
   "cell_type": "markdown",
   "id": "a346bc28",
   "metadata": {
    "_cell_guid": "b1076dfc-b9ad-4769-8c92-a6c4dae69d19",
    "_uuid": "8f2839f25d086af736a60e9eeb907d3b93b6e0e5",
    "execution": {
     "iopub.execute_input": "2023-01-31T05:03:05.220590Z",
     "iopub.status.busy": "2023-01-31T05:03:05.219722Z",
     "iopub.status.idle": "2023-01-31T05:03:43.338016Z",
     "shell.execute_reply": "2023-01-31T05:03:43.336876Z",
     "shell.execute_reply.started": "2023-01-31T05:03:05.220541Z"
    },
    "papermill": {
     "duration": 0.003507,
     "end_time": "2023-01-31T06:21:13.961332",
     "exception": false,
     "start_time": "2023-01-31T06:21:13.957825",
     "status": "completed"
    },
    "tags": []
   },
   "source": [
    "# This Python 3 environment comes with many helpful analytics libraries installed\n",
    "# It is defined by the kaggle/python Docker image: https://github.com/kaggle/docker-python\n",
    "\n",
    "# Input data files are available in the read-only \"../input/\" directory\n",
    "# For example, running this (by clicking run or pressing Shift+Enter) will list all files under the input directory\n",
    "\n",
    "print(f\"python version: {sys.version}\")\n",
    "print(f\"os type: {os.name}\")\n",
    "print(f\"os: {platform.system()}\")\n",
    "print(f\"os release: {platform.release()}\")\n",
    "\n",
    "train_count = 0\n",
    "test_count  = 0\n",
    "for dirname, _, filenames in os.walk('/kaggle/input'):\n",
    "    for filename in filenames:\n",
    "        if \"dcm\" in filename:\n",
    "            if 'test_images' in dirname:\n",
    "                test_count += 1\n",
    "            else:\n",
    "                train_count += 1\n",
    "        else:\n",
    "            print(os.path.join(dirname, filename))\n",
    "\n",
    "print(\"total train:\", train_count)\n",
    "print(\"total test :\", test_count)\n",
    "# You can write up to 20GB to the current directory (/kaggle/working/) that gets preserved as output when you create a version using \"Save & Run All\" \n",
    "# You can also write temporary files to /kaggle/temp/, but they won't be saved outside of the current session"
   ]
  },
  {
   "cell_type": "markdown",
   "id": "2f3408c4",
   "metadata": {
    "papermill": {
     "duration": 0.003407,
     "end_time": "2023-01-31T06:21:13.968391",
     "exception": false,
     "start_time": "2023-01-31T06:21:13.964984",
     "status": "completed"
    },
    "tags": []
   },
   "source": [
    "## Preprocessing Test Images"
   ]
  },
  {
   "cell_type": "code",
   "execution_count": 6,
   "id": "9c907abe",
   "metadata": {
    "execution": {
     "iopub.execute_input": "2023-01-31T06:21:13.977631Z",
     "iopub.status.busy": "2023-01-31T06:21:13.976986Z",
     "iopub.status.idle": "2023-01-31T06:21:17.077785Z",
     "shell.execute_reply": "2023-01-31T06:21:17.076587Z"
    },
    "papermill": {
     "duration": 3.108167,
     "end_time": "2023-01-31T06:21:17.080251",
     "exception": false,
     "start_time": "2023-01-31T06:21:13.972084",
     "status": "completed"
    },
    "tags": []
   },
   "outputs": [
    {
     "name": "stdout",
     "output_type": "stream",
     "text": [
      "Metadata file created in /kaggle/working/preprocessed/metasub.json.\r\n",
      "/kaggle/working/preprocessed/mammosub224.h5 created.\r\n",
      "Timesheet created in /kaggle/working/preprocessed/sub_timesheet.json.\r\n"
     ]
    }
   ],
   "source": [
    "! python preprocessing.py -c /kaggle/working/RSNABreastCancer2023/config/test_config.yaml"
   ]
  },
  {
   "cell_type": "code",
   "execution_count": 7,
   "id": "39bf0754",
   "metadata": {
    "execution": {
     "iopub.execute_input": "2023-01-31T06:21:17.089921Z",
     "iopub.status.busy": "2023-01-31T06:21:17.089567Z",
     "iopub.status.idle": "2023-01-31T06:21:19.097300Z",
     "shell.execute_reply": "2023-01-31T06:21:19.095967Z"
    },
    "papermill": {
     "duration": 2.015458,
     "end_time": "2023-01-31T06:21:19.099817",
     "exception": false,
     "start_time": "2023-01-31T06:21:17.084359",
     "status": "completed"
    },
    "tags": []
   },
   "outputs": [],
   "source": [
    "! python splitdata.py -c ./config/test_config.yaml"
   ]
  },
  {
   "cell_type": "markdown",
   "id": "ffe86a1f",
   "metadata": {
    "papermill": {
     "duration": 0.004254,
     "end_time": "2023-01-31T06:21:19.108335",
     "exception": false,
     "start_time": "2023-01-31T06:21:19.104081",
     "status": "completed"
    },
    "tags": []
   },
   "source": [
    "## Load and run model"
   ]
  },
  {
   "cell_type": "code",
   "execution_count": 8,
   "id": "2718d405",
   "metadata": {
    "execution": {
     "iopub.execute_input": "2023-01-31T06:21:19.117760Z",
     "iopub.status.busy": "2023-01-31T06:21:19.117387Z",
     "iopub.status.idle": "2023-01-31T06:21:25.490698Z",
     "shell.execute_reply": "2023-01-31T06:21:25.488914Z"
    },
    "papermill": {
     "duration": 6.381259,
     "end_time": "2023-01-31T06:21:25.493487",
     "exception": false,
     "start_time": "2023-01-31T06:21:19.112228",
     "status": "completed"
    },
    "tags": []
   },
   "outputs": [
    {
     "name": "stdout",
     "output_type": "stream",
     "text": [
      "\n",
      "\n",
      "Start Time: 2023-01-31 06:21:25, End Time: 2023-01-31 06:21:25, Total Time Taken: 0.004 min\n"
     ]
    }
   ],
   "source": [
    "cfile = \"/kaggle/working/RSNABreastCancer2023/config/test_config.yaml\"\n",
    "if torch.cuda.is_available():\n",
    "    torch.cuda.empty_cache()\n",
    "cfgs = Dict(yaml.load(open(abspath(cfile), \"r\"), Loader=yaml.Loader))\n",
    "submit = Submission(cfgs)\n",
    "start = time.time()\n",
    "submit.Run()\n",
    "submit.ExportSubmissionCSV()\n",
    "end = time.time()\n",
    "print(\"\\n\")\n",
    "start_s = time.strftime(\"%Y-%m-%d %H:%M:%S\", time.localtime(start))\n",
    "end_s = time.strftime(\"%Y-%m-%d %H:%M:%S\", time.localtime(end))\n",
    "time_taken = end - start\n",
    "if time_taken > 3600.:\n",
    "    divisor = 3600.\n",
    "    suffix = \"hr\"\n",
    "else:\n",
    "    divisor = 60.\n",
    "    suffix = \"min\"\n",
    "print(f\"Start Time: {start_s}, End Time: {end_s}, Total Time Taken: {(time_taken)/divisor:.3f} {suffix}\")"
   ]
  }
 ],
 "metadata": {
  "kernelspec": {
   "display_name": "Python 3",
   "language": "python",
   "name": "python3"
  },
  "language_info": {
   "codemirror_mode": {
    "name": "ipython",
    "version": 3
   },
   "file_extension": ".py",
   "mimetype": "text/x-python",
   "name": "python",
   "nbconvert_exporter": "python",
   "pygments_lexer": "ipython3",
   "version": "3.7.12"
  },
  "papermill": {
   "default_parameters": {},
   "duration": 68.501734,
   "end_time": "2023-01-31T06:21:28.225103",
   "environment_variables": {},
   "exception": null,
   "input_path": "__notebook__.ipynb",
   "output_path": "__notebook__.ipynb",
   "parameters": {},
   "start_time": "2023-01-31T06:20:19.723369",
   "version": "2.3.4"
  }
 },
 "nbformat": 4,
 "nbformat_minor": 5
}
