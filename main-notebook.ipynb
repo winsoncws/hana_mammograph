{
 "cells": [
  {
   "cell_type": "code",
   "execution_count": 1,
   "id": "e3d1245d",
   "metadata": {
    "execution": {
     "iopub.execute_input": "2023-02-01T04:16:34.443331Z",
     "iopub.status.busy": "2023-02-01T04:16:34.442841Z",
     "iopub.status.idle": "2023-02-01T04:17:05.482762Z",
     "shell.execute_reply": "2023-02-01T04:17:05.481601Z"
    },
    "papermill": {
     "duration": 31.047627,
     "end_time": "2023-02-01T04:17:05.485368",
     "exception": false,
     "start_time": "2023-02-01T04:16:34.437741",
     "status": "completed"
    },
    "tags": []
   },
   "outputs": [
    {
     "name": "stdout",
     "output_type": "stream",
     "text": [
      "Looking in links: /kaggle/input/monai-whl\r\n",
      "Processing /kaggle/input/monai-whl/monai-1.1.0-202212191849-py3-none-any.whl\r\n",
      "Requirement already satisfied: torch>=1.8 in /opt/conda/lib/python3.7/site-packages (from monai) (1.11.0)\r\n",
      "Requirement already satisfied: numpy>=1.17 in /opt/conda/lib/python3.7/site-packages (from monai) (1.21.6)\r\n",
      "Requirement already satisfied: typing-extensions in /opt/conda/lib/python3.7/site-packages (from torch>=1.8->monai) (4.1.1)\r\n",
      "Installing collected packages: monai\r\n",
      "Successfully installed monai-1.1.0\r\n",
      "\u001b[33mWARNING: Running pip as the 'root' user can result in broken permissions and conflicting behaviour with the system package manager. It is recommended to use a virtual environment instead: https://pip.pypa.io/warnings/venv\u001b[0m\u001b[33m\r\n",
      "\u001b[0mLooking in links: /kaggle/input/torchio\r\n",
      "Processing /kaggle/input/torchio/torchio-0.18.86-py2.py3-none-any.whl\r\n",
      "Processing /kaggle/input/torchio/Deprecated-1.2.13-py2.py3-none-any.whl\r\n",
      "Requirement already satisfied: humanize in /opt/conda/lib/python3.7/site-packages (from torchio) (4.4.0)\r\n",
      "Requirement already satisfied: SimpleITK!=2.0.*,!=2.1.1.1 in /opt/conda/lib/python3.7/site-packages (from torchio) (2.2.0)\r\n",
      "Requirement already satisfied: numpy>=1.15 in /opt/conda/lib/python3.7/site-packages (from torchio) (1.21.6)\r\n",
      "Requirement already satisfied: torch>=1.1 in /opt/conda/lib/python3.7/site-packages (from torchio) (1.11.0)\r\n",
      "Requirement already satisfied: scipy in /opt/conda/lib/python3.7/site-packages (from torchio) (1.7.3)\r\n",
      "Requirement already satisfied: typer[all] in /opt/conda/lib/python3.7/site-packages (from torchio) (0.4.2)\r\n",
      "Requirement already satisfied: nibabel in /opt/conda/lib/python3.7/site-packages (from torchio) (4.0.2)\r\n",
      "Requirement already satisfied: tqdm in /opt/conda/lib/python3.7/site-packages (from torchio) (4.64.0)\r\n",
      "Requirement already satisfied: typing-extensions in /opt/conda/lib/python3.7/site-packages (from torch>=1.1->torchio) (4.1.1)\r\n",
      "Requirement already satisfied: wrapt<2,>=1.10 in /opt/conda/lib/python3.7/site-packages (from Deprecated->torchio) (1.12.1)\r\n",
      "Requirement already satisfied: importlib-metadata in /opt/conda/lib/python3.7/site-packages (from humanize->torchio) (4.13.0)\r\n",
      "Requirement already satisfied: setuptools in /opt/conda/lib/python3.7/site-packages (from nibabel->torchio) (59.8.0)\r\n",
      "Requirement already satisfied: packaging>=17.0 in /opt/conda/lib/python3.7/site-packages (from nibabel->torchio) (21.3)\r\n",
      "Requirement already satisfied: click<9.0.0,>=7.1.1 in /opt/conda/lib/python3.7/site-packages (from typer[all]->torchio) (8.0.4)\r\n",
      "Processing /kaggle/input/torchio/shellingham-1.5.0.post1-py2.py3-none-any.whl\r\n",
      "Requirement already satisfied: colorama<0.5.0,>=0.4.3 in /opt/conda/lib/python3.7/site-packages (from typer[all]->torchio) (0.4.5)\r\n",
      "Requirement already satisfied: pyparsing!=3.0.5,>=2.0.2 in /opt/conda/lib/python3.7/site-packages (from packaging>=17.0->nibabel->torchio) (3.0.9)\r\n",
      "Requirement already satisfied: zipp>=0.5 in /opt/conda/lib/python3.7/site-packages (from importlib-metadata->humanize->torchio) (3.8.0)\r\n",
      "Installing collected packages: shellingham, Deprecated, torchio\r\n",
      "Successfully installed Deprecated-1.2.13 shellingham-1.5.0.post1 torchio-0.18.86\r\n",
      "\u001b[33mWARNING: Running pip as the 'root' user can result in broken permissions and conflicting behaviour with the system package manager. It is recommended to use a virtual environment instead: https://pip.pypa.io/warnings/venv\u001b[0m\u001b[33m\r\n",
      "\u001b[0mLooking in links: /kaggle/input/addict\r\n",
      "Processing /kaggle/input/addict/addict-2.4.0-py3-none-any.whl\r\n",
      "Installing collected packages: addict\r\n",
      "Successfully installed addict-2.4.0\r\n",
      "\u001b[33mWARNING: Running pip as the 'root' user can result in broken permissions and conflicting behaviour with the system package manager. It is recommended to use a virtual environment instead: https://pip.pypa.io/warnings/venv\u001b[0m\u001b[33m\r\n",
      "\u001b[0m"
     ]
    }
   ],
   "source": [
    "! pip install --no-index --find-links=/kaggle/input/monai-whl monai\n",
    "! pip install --no-index --find-links=/kaggle/input/torchio torchio\n",
    "! pip install --no-index --find-links=/kaggle/input/addict addict"
   ]
  },
  {
   "cell_type": "code",
   "execution_count": 2,
   "id": "bb51510e",
   "metadata": {
    "execution": {
     "iopub.execute_input": "2023-02-01T04:17:05.494966Z",
     "iopub.status.busy": "2023-02-01T04:17:05.493999Z",
     "iopub.status.idle": "2023-02-01T04:17:16.229633Z",
     "shell.execute_reply": "2023-02-01T04:17:16.228559Z"
    },
    "papermill": {
     "duration": 10.742971,
     "end_time": "2023-02-01T04:17:16.232156",
     "exception": false,
     "start_time": "2023-02-01T04:17:05.489185",
     "status": "completed"
    },
    "tags": []
   },
   "outputs": [],
   "source": [
    "import os, sys, platform, subprocess\n",
    "import traceback, logging\n",
    "logging.basicConfig(level=logging.DEBUG)\n",
    "handler = logging.StreamHandler()\n",
    "logger = logging.getLogger(__name__)\n",
    "logger.addHandler(handler)\n",
    "from os.path import join, dirname, basename, abspath\n",
    "import time\n",
    "import numpy as np\n",
    "import pandas as pd\n",
    "import pydicom\n",
    "import SimpleITK as sitk\n",
    "import cv2\n",
    "import torch\n",
    "import tensorflow\n",
    "import matplotlib.pyplot as plt\n",
    "import yaml\n",
    "import h5py\n",
    "import json\n",
    "from glob import glob\n",
    "# import addict\n",
    "from addict import Dict\n",
    "# import monai\n",
    "import monai\n",
    "# import torchio\n",
    "import torchio as tio\n",
    "# import custom classes\n",
    "import importlib\n",
    "\n",
    "repo = \"/kaggle/input/rsna-breast-cancer-2023\"\n",
    "os.chdir(repo)\n",
    "\n",
    "import submission\n",
    "importlib.reload(submission)\n",
    "from submission import Submission"
   ]
  },
  {
   "cell_type": "code",
   "execution_count": 3,
   "id": "fda3aa78",
   "metadata": {
    "execution": {
     "iopub.execute_input": "2023-02-01T04:17:16.240988Z",
     "iopub.status.busy": "2023-02-01T04:17:16.240415Z",
     "iopub.status.idle": "2023-02-01T04:17:16.250334Z",
     "shell.execute_reply": "2023-02-01T04:17:16.249460Z"
    },
    "papermill": {
     "duration": 0.01641,
     "end_time": "2023-02-01T04:17:16.252347",
     "exception": false,
     "start_time": "2023-02-01T04:17:16.235937",
     "status": "completed"
    },
    "tags": []
   },
   "outputs": [],
   "source": [
    "def main(cfile):\n",
    "    if torch.cuda.is_available():\n",
    "        torch.cuda.empty_cache()\n",
    "    cfgs = Dict(yaml.load(open(abspath(cfile), \"r\"), Loader=yaml.Loader))\n",
    "    submit = Submission(cfgs)\n",
    "    start = time.time()\n",
    "    submit.Run()\n",
    "    submit.ExportSubmissionCSV()\n",
    "    end = time.time()\n",
    "    print(\"\\n\")\n",
    "    start_s = time.strftime(\"%Y-%m-%d %H:%M:%S\", time.localtime(start))\n",
    "    end_s = time.strftime(\"%Y-%m-%d %H:%M:%S\", time.localtime(end))\n",
    "    time_taken = end - start\n",
    "    if time_taken > 3600.:\n",
    "        divisor = 3600.\n",
    "        suffix = \"hr\"\n",
    "    else:\n",
    "        divisor = 60.\n",
    "        suffix = \"min\"\n",
    "    print(f\"Start Time: {start_s}, End Time: {end_s}, Total Time Taken: {(time_taken)/divisor:.3f} {suffix}\")\n",
    "    \n",
    "def randresult(md_path):\n",
    "    test_md = pd.read_csv(md_path)\n",
    "    pats = test_md[\"patient_id\"].tolist()\n",
    "    lats = test_md[\"laterality\"].tolist()\n",
    "    pat_ids = [\"_\".join(item) for item in zip(map(str, pats), lats)]\n",
    "    rand_cancer = np.random.rand(len(pat_ids))\n",
    "    raw_results = pd.DataFrame({\"prediction_id\": pat_ids, \"cancer\": rand_cancer})\n",
    "    results = raw_results.groupby(\"prediction_id\")[\"cancer\"].mean()\n",
    "    return results"
   ]
  },
  {
   "cell_type": "code",
   "execution_count": 4,
   "id": "da8bcc4a",
   "metadata": {
    "execution": {
     "iopub.execute_input": "2023-02-01T04:17:16.260157Z",
     "iopub.status.busy": "2023-02-01T04:17:16.259897Z",
     "iopub.status.idle": "2023-02-01T04:17:16.263947Z",
     "shell.execute_reply": "2023-02-01T04:17:16.262956Z"
    },
    "papermill": {
     "duration": 0.010438,
     "end_time": "2023-02-01T04:17:16.266229",
     "exception": false,
     "start_time": "2023-02-01T04:17:16.255791",
     "status": "completed"
    },
    "tags": []
   },
   "outputs": [],
   "source": [
    "save_path = \"/kaggle/working/submission.csv\"\n",
    "test_md_path = \"/kaggle/input/rsna-breast-cancer-detection/test.csv\""
   ]
  },
  {
   "cell_type": "markdown",
   "id": "b6f2ad7a",
   "metadata": {
    "papermill": {
     "duration": 0.00314,
     "end_time": "2023-02-01T04:17:16.272778",
     "exception": false,
     "start_time": "2023-02-01T04:17:16.269638",
     "status": "completed"
    },
    "tags": []
   },
   "source": [
    "## Preprocessing Test Images"
   ]
  },
  {
   "cell_type": "code",
   "execution_count": 5,
   "id": "c5b859a5",
   "metadata": {
    "execution": {
     "iopub.execute_input": "2023-02-01T04:17:16.280460Z",
     "iopub.status.busy": "2023-02-01T04:17:16.280212Z",
     "iopub.status.idle": "2023-02-01T04:17:21.960980Z",
     "shell.execute_reply": "2023-02-01T04:17:21.959617Z"
    },
    "papermill": {
     "duration": 5.687401,
     "end_time": "2023-02-01T04:17:21.963490",
     "exception": false,
     "start_time": "2023-02-01T04:17:16.276089",
     "status": "completed"
    },
    "tags": []
   },
   "outputs": [],
   "source": [
    "continue_test = True\n",
    "try:\n",
    "    subprocess.run([\"python\", \"preprocessing.py\", \"-c\", \"/kaggle/input/rsna-breast-cancer-2023/config/test_config.yaml\"])\n",
    "    subprocess.run([\"python\", \"splitdata.py\", \"-c\", \"/kaggle/input/rsna-breast-cancer-2023/config/test_config.yaml\"])\n",
    "except Exception as err:\n",
    "    logger.exception(err)\n",
    "    continue_test = False\n",
    "    res = randresult(test_md_path)\n",
    "    res.to_csv(save_path, index=True)"
   ]
  },
  {
   "cell_type": "markdown",
   "id": "d0c9b631",
   "metadata": {
    "papermill": {
     "duration": 0.00351,
     "end_time": "2023-02-01T04:17:21.971025",
     "exception": false,
     "start_time": "2023-02-01T04:17:21.967515",
     "status": "completed"
    },
    "tags": []
   },
   "source": [
    "## Load and run model"
   ]
  },
  {
   "cell_type": "code",
   "execution_count": 6,
   "id": "66f1cea0",
   "metadata": {
    "execution": {
     "iopub.execute_input": "2023-02-01T04:17:21.980060Z",
     "iopub.status.busy": "2023-02-01T04:17:21.979054Z",
     "iopub.status.idle": "2023-02-01T04:17:33.988994Z",
     "shell.execute_reply": "2023-02-01T04:17:33.986676Z"
    },
    "papermill": {
     "duration": 12.017764,
     "end_time": "2023-02-01T04:17:33.992231",
     "exception": false,
     "start_time": "2023-02-01T04:17:21.974467",
     "status": "completed"
    },
    "tags": []
   },
   "outputs": [
    {
     "name": "stdout",
     "output_type": "stream",
     "text": [
      "Samples |███████████████████████████████████████████████████████████████████████████-------------------------| 3/4 \r\n",
      "\n",
      "Start Time: 2023-02-01 04:17:27, End Time: 2023-02-01 04:17:33, Total Time Taken: 0.107 min\n"
     ]
    }
   ],
   "source": [
    "if continue_test:\n",
    "    try:\n",
    "        config_file = \"/kaggle/input/rsna-breast-cancer-2023/config/test_config.yaml\"\n",
    "        main(config_file)\n",
    "    except Exception as err:\n",
    "        logger.exception(err)\n",
    "        res = randresult(test_md_path)\n",
    "        res.to_csv(save_path, index=True)"
   ]
  },
  {
   "cell_type": "code",
   "execution_count": 7,
   "id": "a1e07b0b",
   "metadata": {
    "execution": {
     "iopub.execute_input": "2023-02-01T04:17:34.001621Z",
     "iopub.status.busy": "2023-02-01T04:17:34.001248Z",
     "iopub.status.idle": "2023-02-01T04:17:34.007243Z",
     "shell.execute_reply": "2023-02-01T04:17:34.005324Z"
    },
    "papermill": {
     "duration": 0.013055,
     "end_time": "2023-02-01T04:17:34.009309",
     "exception": false,
     "start_time": "2023-02-01T04:17:33.996254",
     "status": "completed"
    },
    "tags": []
   },
   "outputs": [],
   "source": [
    "os.chdir(\"/kaggle/working/\")"
   ]
  },
  {
   "cell_type": "code",
   "execution_count": 8,
   "id": "c4e9579e",
   "metadata": {
    "execution": {
     "iopub.execute_input": "2023-02-01T04:17:34.019605Z",
     "iopub.status.busy": "2023-02-01T04:17:34.017914Z",
     "iopub.status.idle": "2023-02-01T04:17:34.030448Z",
     "shell.execute_reply": "2023-02-01T04:17:34.028695Z"
    },
    "papermill": {
     "duration": 0.019985,
     "end_time": "2023-02-01T04:17:34.033166",
     "exception": false,
     "start_time": "2023-02-01T04:17:34.013181",
     "status": "completed"
    },
    "tags": []
   },
   "outputs": [
    {
     "name": "stdout",
     "output_type": "stream",
     "text": [
      "  prediction_id    cancer\n",
      "0       10008_L  0.000013\n",
      "1       10008_R  0.000008\n"
     ]
    }
   ],
   "source": [
    "df = pd.read_csv(save_path)\n",
    "print(df.head())"
   ]
  }
 ],
 "metadata": {
  "kernelspec": {
   "display_name": "Python 3",
   "language": "python",
   "name": "python3"
  },
  "language_info": {
   "codemirror_mode": {
    "name": "ipython",
    "version": 3
   },
   "file_extension": ".py",
   "mimetype": "text/x-python",
   "name": "python",
   "nbconvert_exporter": "python",
   "pygments_lexer": "ipython3",
   "version": "3.7.12"
  },
  "papermill": {
   "default_parameters": {},
   "duration": 71.26539,
   "end_time": "2023-02-01T04:17:37.762617",
   "environment_variables": {},
   "exception": null,
   "input_path": "__notebook__.ipynb",
   "output_path": "__notebook__.ipynb",
   "parameters": {},
   "start_time": "2023-02-01T04:16:26.497227",
   "version": "2.3.4"
  }
 },
 "nbformat": 4,
 "nbformat_minor": 5
}
