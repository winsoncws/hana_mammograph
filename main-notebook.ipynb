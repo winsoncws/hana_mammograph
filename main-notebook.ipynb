{
 "cells": [
  {
   "cell_type": "code",
   "execution_count": 1,
   "id": "5a85f992",
   "metadata": {
    "execution": {
     "iopub.execute_input": "2023-01-31T05:04:43.328560Z",
     "iopub.status.busy": "2023-01-31T05:04:43.327983Z",
     "iopub.status.idle": "2023-01-31T05:04:43.601745Z",
     "shell.execute_reply": "2023-01-31T05:04:43.600776Z"
    },
    "papermill": {
     "duration": 0.282108,
     "end_time": "2023-01-31T05:04:43.604372",
     "exception": false,
     "start_time": "2023-01-31T05:04:43.322264",
     "status": "completed"
    },
    "tags": []
   },
   "outputs": [],
   "source": [
    "import subprocess, os\n",
    "from kaggle_secrets import UserSecretsClient\n",
    "user_secrets = UserSecretsClient()\n",
    "token = user_secrets.get_secret(\"token\")\n",
    "repo = \"/kaggle/working/RSNABreastCancer2023\""
   ]
  },
  {
   "cell_type": "code",
   "execution_count": 2,
   "id": "a8df03a6",
   "metadata": {
    "execution": {
     "iopub.execute_input": "2023-01-31T05:04:43.612086Z",
     "iopub.status.busy": "2023-01-31T05:04:43.611362Z",
     "iopub.status.idle": "2023-01-31T05:04:44.512063Z",
     "shell.execute_reply": "2023-01-31T05:04:44.510877Z"
    },
    "papermill": {
     "duration": 0.907086,
     "end_time": "2023-01-31T05:04:44.514655",
     "exception": false,
     "start_time": "2023-01-31T05:04:43.607569",
     "status": "completed"
    },
    "tags": []
   },
   "outputs": [
    {
     "name": "stderr",
     "output_type": "stream",
     "text": [
      "Cloning into 'RSNABreastCancer2023'...\n"
     ]
    }
   ],
   "source": [
    "%%capture\n",
    "if not os.path.isdir(repo):\n",
    "    subprocess.run([\"git\", \"clone\", f\"https://{token}@github.com/isaiahchua/RSNABreastCancer2023.git\"])"
   ]
  },
  {
   "cell_type": "code",
   "execution_count": 3,
   "id": "167cdd0d",
   "metadata": {
    "execution": {
     "iopub.execute_input": "2023-01-31T05:04:44.523712Z",
     "iopub.status.busy": "2023-01-31T05:04:44.522036Z",
     "iopub.status.idle": "2023-01-31T05:04:45.990913Z",
     "shell.execute_reply": "2023-01-31T05:04:45.989552Z"
    },
    "papermill": {
     "duration": 1.475544,
     "end_time": "2023-01-31T05:04:45.993374",
     "exception": false,
     "start_time": "2023-01-31T05:04:44.517830",
     "status": "completed"
    },
    "tags": []
   },
   "outputs": [
    {
     "name": "stdout",
     "output_type": "stream",
     "text": [
      "Already up to date.\r\n"
     ]
    }
   ],
   "source": [
    "os.chdir(repo)\n",
    "! git pull"
   ]
  },
  {
   "cell_type": "code",
   "execution_count": 4,
   "id": "0510b212",
   "metadata": {
    "execution": {
     "iopub.execute_input": "2023-01-31T05:04:46.002069Z",
     "iopub.status.busy": "2023-01-31T05:04:46.001132Z",
     "iopub.status.idle": "2023-01-31T05:05:17.245379Z",
     "shell.execute_reply": "2023-01-31T05:05:17.244090Z"
    },
    "papermill": {
     "duration": 31.251238,
     "end_time": "2023-01-31T05:05:17.248125",
     "exception": false,
     "start_time": "2023-01-31T05:04:45.996887",
     "status": "completed"
    },
    "tags": []
   },
   "outputs": [
    {
     "name": "stdout",
     "output_type": "stream",
     "text": [
      "Looking in links: /kaggle/input/monai-whl\r\n",
      "Processing /kaggle/input/monai-whl/monai-1.1.0-202212191849-py3-none-any.whl\r\n",
      "Requirement already satisfied: numpy>=1.17 in /opt/conda/lib/python3.7/site-packages (from monai) (1.21.6)\r\n",
      "Requirement already satisfied: torch>=1.8 in /opt/conda/lib/python3.7/site-packages (from monai) (1.11.0)\r\n",
      "Requirement already satisfied: typing-extensions in /opt/conda/lib/python3.7/site-packages (from torch>=1.8->monai) (4.1.1)\r\n",
      "Installing collected packages: monai\r\n",
      "Successfully installed monai-1.1.0\r\n",
      "\u001b[33mWARNING: Running pip as the 'root' user can result in broken permissions and conflicting behaviour with the system package manager. It is recommended to use a virtual environment instead: https://pip.pypa.io/warnings/venv\u001b[0m\u001b[33m\r\n",
      "\u001b[0mLooking in links: /kaggle/input/torchio\r\n",
      "Processing /kaggle/input/torchio/torchio-0.18.86-py2.py3-none-any.whl\r\n",
      "Requirement already satisfied: tqdm in /opt/conda/lib/python3.7/site-packages (from torchio) (4.64.0)\r\n",
      "Requirement already satisfied: numpy>=1.15 in /opt/conda/lib/python3.7/site-packages (from torchio) (1.21.6)\r\n",
      "Requirement already satisfied: nibabel in /opt/conda/lib/python3.7/site-packages (from torchio) (4.0.2)\r\n",
      "Requirement already satisfied: SimpleITK!=2.0.*,!=2.1.1.1 in /opt/conda/lib/python3.7/site-packages (from torchio) (2.2.0)\r\n",
      "Requirement already satisfied: torch>=1.1 in /opt/conda/lib/python3.7/site-packages (from torchio) (1.11.0)\r\n",
      "Requirement already satisfied: humanize in /opt/conda/lib/python3.7/site-packages (from torchio) (4.4.0)\r\n",
      "Requirement already satisfied: typer[all] in /opt/conda/lib/python3.7/site-packages (from torchio) (0.4.2)\r\n",
      "Requirement already satisfied: scipy in /opt/conda/lib/python3.7/site-packages (from torchio) (1.7.3)\r\n",
      "Processing /kaggle/input/torchio/Deprecated-1.2.13-py2.py3-none-any.whl\r\n",
      "Requirement already satisfied: typing-extensions in /opt/conda/lib/python3.7/site-packages (from torch>=1.1->torchio) (4.1.1)\r\n",
      "Requirement already satisfied: wrapt<2,>=1.10 in /opt/conda/lib/python3.7/site-packages (from Deprecated->torchio) (1.12.1)\r\n",
      "Requirement already satisfied: importlib-metadata in /opt/conda/lib/python3.7/site-packages (from humanize->torchio) (4.13.0)\r\n",
      "Requirement already satisfied: packaging>=17.0 in /opt/conda/lib/python3.7/site-packages (from nibabel->torchio) (21.3)\r\n",
      "Requirement already satisfied: setuptools in /opt/conda/lib/python3.7/site-packages (from nibabel->torchio) (59.8.0)\r\n",
      "Requirement already satisfied: click<9.0.0,>=7.1.1 in /opt/conda/lib/python3.7/site-packages (from typer[all]->torchio) (8.0.4)\r\n",
      "Processing /kaggle/input/torchio/shellingham-1.5.0.post1-py2.py3-none-any.whl\r\n",
      "Requirement already satisfied: colorama<0.5.0,>=0.4.3 in /opt/conda/lib/python3.7/site-packages (from typer[all]->torchio) (0.4.5)\r\n",
      "Requirement already satisfied: pyparsing!=3.0.5,>=2.0.2 in /opt/conda/lib/python3.7/site-packages (from packaging>=17.0->nibabel->torchio) (3.0.9)\r\n",
      "Requirement already satisfied: zipp>=0.5 in /opt/conda/lib/python3.7/site-packages (from importlib-metadata->humanize->torchio) (3.8.0)\r\n",
      "Installing collected packages: shellingham, Deprecated, torchio\r\n",
      "Successfully installed Deprecated-1.2.13 shellingham-1.5.0.post1 torchio-0.18.86\r\n",
      "\u001b[33mWARNING: Running pip as the 'root' user can result in broken permissions and conflicting behaviour with the system package manager. It is recommended to use a virtual environment instead: https://pip.pypa.io/warnings/venv\u001b[0m\u001b[33m\r\n",
      "\u001b[0mLooking in links: /kaggle/input/addict\r\n",
      "Processing /kaggle/input/addict/addict-2.4.0-py3-none-any.whl\r\n",
      "Installing collected packages: addict\r\n",
      "Successfully installed addict-2.4.0\r\n",
      "\u001b[33mWARNING: Running pip as the 'root' user can result in broken permissions and conflicting behaviour with the system package manager. It is recommended to use a virtual environment instead: https://pip.pypa.io/warnings/venv\u001b[0m\u001b[33m\r\n",
      "\u001b[0m"
     ]
    }
   ],
   "source": [
    "! pip install --no-index --find-links=/kaggle/input/monai-whl monai\n",
    "! pip install --no-index --find-links=/kaggle/input/torchio torchio\n",
    "! pip install --no-index --find-links=/kaggle/input/addict addict"
   ]
  },
  {
   "cell_type": "code",
   "execution_count": 5,
   "id": "29da964e",
   "metadata": {
    "execution": {
     "iopub.execute_input": "2023-01-31T05:05:17.257856Z",
     "iopub.status.busy": "2023-01-31T05:05:17.257500Z",
     "iopub.status.idle": "2023-01-31T05:05:28.092568Z",
     "shell.execute_reply": "2023-01-31T05:05:28.091455Z"
    },
    "papermill": {
     "duration": 10.84312,
     "end_time": "2023-01-31T05:05:28.095394",
     "exception": false,
     "start_time": "2023-01-31T05:05:17.252274",
     "status": "completed"
    },
    "tags": []
   },
   "outputs": [],
   "source": [
    "import os, sys, platform\n",
    "from os.path import join, dirname, basename, abspath\n",
    "import time\n",
    "import numpy as np\n",
    "import pandas as pd\n",
    "import pydicom\n",
    "import SimpleITK as sitk\n",
    "import cv2\n",
    "import torch\n",
    "import tensorflow\n",
    "import matplotlib.pyplot as plt\n",
    "import yaml\n",
    "import h5py\n",
    "import json\n",
    "# import addict\n",
    "from addict import Dict\n",
    "# import monai\n",
    "import monai\n",
    "# import torchio\n",
    "import torchio as tio\n",
    "# import custom classes\n",
    "import importlib\n",
    "import submission\n",
    "importlib.reload(submission)\n",
    "from submission import Submission"
   ]
  },
  {
   "cell_type": "code",
   "execution_count": 6,
   "id": "39b145a1",
   "metadata": {
    "_cell_guid": "b1076dfc-b9ad-4769-8c92-a6c4dae69d19",
    "_uuid": "8f2839f25d086af736a60e9eeb907d3b93b6e0e5",
    "execution": {
     "iopub.execute_input": "2023-01-31T05:05:28.105458Z",
     "iopub.status.busy": "2023-01-31T05:05:28.104438Z",
     "iopub.status.idle": "2023-01-31T05:06:23.199021Z",
     "shell.execute_reply": "2023-01-31T05:06:23.198008Z"
    },
    "papermill": {
     "duration": 55.106354,
     "end_time": "2023-01-31T05:06:23.205691",
     "exception": false,
     "start_time": "2023-01-31T05:05:28.099337",
     "status": "completed"
    },
    "tags": []
   },
   "outputs": [
    {
     "name": "stdout",
     "output_type": "stream",
     "text": [
      "python version: 3.7.12 | packaged by conda-forge | (default, Oct 26 2021, 06:08:53) \n",
      "[GCC 9.4.0]\n",
      "os type: posix\n",
      "os: Linux\n",
      "os release: 5.15.65+\n",
      "/kaggle/input/monai-whl/monai-1.1.0-202212191849-py3-none-any.whl\n",
      "/kaggle/input/addict/addict-2.4.0-py3-none-any.whl\n",
      "/kaggle/input/rsna-breast-cancer-detection/sample_submission.csv\n",
      "/kaggle/input/rsna-breast-cancer-detection/train.csv\n",
      "/kaggle/input/rsna-breast-cancer-detection/test.csv\n",
      "/kaggle/input/torchio/torchio-0.18.86-py2.py3-none-any.whl\n",
      "/kaggle/input/torchio/Deprecated-1.2.13-py2.py3-none-any.whl\n",
      "/kaggle/input/torchio/shellingham-1.5.0.post1-py2.py3-none-any.whl\n",
      "/kaggle/input/rsna-breast-cancer-model-weights/20230122/densenet_final_01.pth\n",
      "total train: 54706\n",
      "total test : 4\n"
     ]
    }
   ],
   "source": [
    "# This Python 3 environment comes with many helpful analytics libraries installed\n",
    "# It is defined by the kaggle/python Docker image: https://github.com/kaggle/docker-python\n",
    "\n",
    "# Input data files are available in the read-only \"../input/\" directory\n",
    "# For example, running this (by clicking run or pressing Shift+Enter) will list all files under the input directory\n",
    "\n",
    "print(f\"python version: {sys.version}\")\n",
    "print(f\"os type: {os.name}\")\n",
    "print(f\"os: {platform.system()}\")\n",
    "print(f\"os release: {platform.release()}\")\n",
    "\n",
    "train_count = 0\n",
    "test_count  = 0\n",
    "for dirname, _, filenames in os.walk('/kaggle/input'):\n",
    "    for filename in filenames:\n",
    "        if \"dcm\" in filename:\n",
    "            if 'test_images' in dirname:\n",
    "                test_count += 1\n",
    "            else:\n",
    "                train_count += 1\n",
    "        else:\n",
    "            print(os.path.join(dirname, filename))\n",
    "\n",
    "print(\"total train:\", train_count)\n",
    "print(\"total test :\", test_count)\n",
    "# You can write up to 20GB to the current directory (/kaggle/working/) that gets preserved as output when you create a version using \"Save & Run All\" \n",
    "# You can also write temporary files to /kaggle/temp/, but they won't be saved outside of the current session"
   ]
  },
  {
   "cell_type": "markdown",
   "id": "d9652528",
   "metadata": {
    "papermill": {
     "duration": 0.003697,
     "end_time": "2023-01-31T05:06:23.214014",
     "exception": false,
     "start_time": "2023-01-31T05:06:23.210317",
     "status": "completed"
    },
    "tags": []
   },
   "source": [
    "## Preprocessing Test Images"
   ]
  },
  {
   "cell_type": "code",
   "execution_count": 7,
   "id": "3e0c2255",
   "metadata": {
    "execution": {
     "iopub.execute_input": "2023-01-31T05:06:23.233617Z",
     "iopub.status.busy": "2023-01-31T05:06:23.232756Z",
     "iopub.status.idle": "2023-01-31T05:06:26.222902Z",
     "shell.execute_reply": "2023-01-31T05:06:26.221636Z"
    },
    "papermill": {
     "duration": 3.002319,
     "end_time": "2023-01-31T05:06:26.225264",
     "exception": false,
     "start_time": "2023-01-31T05:06:23.222945",
     "status": "completed"
    },
    "tags": []
   },
   "outputs": [
    {
     "name": "stdout",
     "output_type": "stream",
     "text": [
      "Metadata file created in /kaggle/working/preprocessed/metasub.json.\r\n",
      "/kaggle/working/preprocessed/mammosub224.h5 created.\r\n",
      "Timesheet created in /kaggle/working/preprocessed/sub_timesheet.json.\r\n"
     ]
    }
   ],
   "source": [
    "! python preprocessing.py -c /kaggle/working/RSNABreastCancer2023/config/test_config.yaml"
   ]
  },
  {
   "cell_type": "code",
   "execution_count": 8,
   "id": "bc0b72a6",
   "metadata": {
    "execution": {
     "iopub.execute_input": "2023-01-31T05:06:26.235535Z",
     "iopub.status.busy": "2023-01-31T05:06:26.235142Z",
     "iopub.status.idle": "2023-01-31T05:06:28.200104Z",
     "shell.execute_reply": "2023-01-31T05:06:28.198714Z"
    },
    "papermill": {
     "duration": 1.973062,
     "end_time": "2023-01-31T05:06:28.202858",
     "exception": false,
     "start_time": "2023-01-31T05:06:26.229796",
     "status": "completed"
    },
    "tags": []
   },
   "outputs": [],
   "source": [
    "! python splitdata.py -c ./config/test_config.yaml"
   ]
  },
  {
   "cell_type": "markdown",
   "id": "27297e12",
   "metadata": {
    "papermill": {
     "duration": 0.004697,
     "end_time": "2023-01-31T05:06:28.213078",
     "exception": false,
     "start_time": "2023-01-31T05:06:28.208381",
     "status": "completed"
    },
    "tags": []
   },
   "source": [
    "## Load and run model"
   ]
  },
  {
   "cell_type": "code",
   "execution_count": 9,
   "id": "2719b1d8",
   "metadata": {
    "execution": {
     "iopub.execute_input": "2023-01-31T05:06:28.223042Z",
     "iopub.status.busy": "2023-01-31T05:06:28.222640Z",
     "iopub.status.idle": "2023-01-31T05:06:34.119819Z",
     "shell.execute_reply": "2023-01-31T05:06:34.117929Z"
    },
    "papermill": {
     "duration": 5.905905,
     "end_time": "2023-01-31T05:06:34.123039",
     "exception": false,
     "start_time": "2023-01-31T05:06:28.217134",
     "status": "completed"
    },
    "tags": []
   },
   "outputs": [
    {
     "name": "stdout",
     "output_type": "stream",
     "text": [
      "\n",
      "\n",
      "Start Time: 2023-01-31 05:06:33, End Time: 2023-01-31 05:06:34, Total Time Taken: 0.004 min\n"
     ]
    }
   ],
   "source": [
    "cfile = \"/kaggle/working/RSNABreastCancer2023/config/test_config.yaml\"\n",
    "if torch.cuda.is_available():\n",
    "    torch.cuda.empty_cache()\n",
    "cfgs = Dict(yaml.load(open(abspath(cfile), \"r\"), Loader=yaml.Loader))\n",
    "submit = Submission(cfgs)\n",
    "start = time.time()\n",
    "submit.Run()\n",
    "submit.ExportSubmissionCSV()\n",
    "end = time.time()\n",
    "print(\"\\n\")\n",
    "start_s = time.strftime(\"%Y-%m-%d %H:%M:%S\", time.localtime(start))\n",
    "end_s = time.strftime(\"%Y-%m-%d %H:%M:%S\", time.localtime(end))\n",
    "time_taken = end - start\n",
    "if time_taken > 3600.:\n",
    "    divisor = 3600.\n",
    "    suffix = \"hr\"\n",
    "else:\n",
    "    divisor = 60.\n",
    "    suffix = \"min\"\n",
    "print(f\"Start Time: {start_s}, End Time: {end_s}, Total Time Taken: {(time_taken)/divisor:.3f} {suffix}\")"
   ]
  }
 ],
 "metadata": {
  "kernelspec": {
   "display_name": "Python 3",
   "language": "python",
   "name": "python3"
  },
  "language_info": {
   "codemirror_mode": {
    "name": "ipython",
    "version": 3
   },
   "file_extension": ".py",
   "mimetype": "text/x-python",
   "name": "python",
   "nbconvert_exporter": "python",
   "pygments_lexer": "ipython3",
   "version": "3.7.12"
  },
  "papermill": {
   "default_parameters": {},
   "duration": 121.298816,
   "end_time": "2023-01-31T05:06:37.002404",
   "environment_variables": {},
   "exception": null,
   "input_path": "__notebook__.ipynb",
   "output_path": "__notebook__.ipynb",
   "parameters": {},
   "start_time": "2023-01-31T05:04:35.703588",
   "version": "2.3.4"
  }
 },
 "nbformat": 4,
 "nbformat_minor": 5
}
