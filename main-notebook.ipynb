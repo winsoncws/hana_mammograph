{
 "cells": [
  {
   "cell_type": "code",
   "execution_count": 1,
   "id": "88c3bb64",
   "metadata": {
    "execution": {
     "iopub.execute_input": "2023-02-27T03:53:31.618603Z",
     "iopub.status.busy": "2023-02-27T03:53:31.618139Z",
     "iopub.status.idle": "2023-02-27T03:54:42.666491Z",
     "shell.execute_reply": "2023-02-27T03:54:42.665133Z"
    },
    "papermill": {
     "duration": 71.055236,
     "end_time": "2023-02-27T03:54:42.669270",
     "exception": false,
     "start_time": "2023-02-27T03:53:31.614034",
     "status": "completed"
    },
    "tags": []
   },
   "outputs": [
    {
     "name": "stdout",
     "output_type": "stream",
     "text": [
      "Processing /kaggle/input/pydicom/pydicom-2.3.0-py3-none-any.whl\r\n",
      "Processing /kaggle/input/pydicom/pylibjpeg-1.4.0-py3-none-any.whl\r\n",
      "Processing /kaggle/input/pydicom/python_gdcm-3.0.21-cp37-cp37m-manylinux_2_17_x86_64.manylinux2014_x86_64.whl\r\n",
      "Requirement already satisfied: numpy in /opt/conda/lib/python3.7/site-packages (from pylibjpeg==1.4.0) (1.21.6)\r\n",
      "pydicom is already installed with the same version as the provided wheel. Use --force-reinstall to force an installation of the wheel.\r\n",
      "Installing collected packages: python-gdcm, pylibjpeg\r\n",
      "Successfully installed pylibjpeg-1.4.0 python-gdcm-3.0.21\r\n",
      "\u001b[33mWARNING: Running pip as the 'root' user can result in broken permissions and conflicting behaviour with the system package manager. It is recommended to use a virtual environment instead: https://pip.pypa.io/warnings/venv\u001b[0m\u001b[33m\r\n",
      "\u001b[0m\u001b[33mWARNING: There was an error checking the latest version of pip.\u001b[0m\u001b[33m\r\n",
      "\u001b[0mLooking in links: /kaggle/input/timm-package\r\n",
      "Processing /kaggle/input/timm-package/timm-0.6.12-py3-none-any.whl\r\n",
      "Requirement already satisfied: huggingface-hub in /opt/conda/lib/python3.7/site-packages (from timm) (0.10.1)\r\n",
      "Requirement already satisfied: torch>=1.7 in /opt/conda/lib/python3.7/site-packages (from timm) (1.11.0)\r\n",
      "Requirement already satisfied: pyyaml in /opt/conda/lib/python3.7/site-packages (from timm) (6.0)\r\n",
      "Requirement already satisfied: torchvision in /opt/conda/lib/python3.7/site-packages (from timm) (0.12.0)\r\n",
      "Requirement already satisfied: typing-extensions in /opt/conda/lib/python3.7/site-packages (from torch>=1.7->timm) (4.1.1)\r\n",
      "Requirement already satisfied: importlib-metadata in /opt/conda/lib/python3.7/site-packages (from huggingface-hub->timm) (4.13.0)\r\n",
      "Requirement already satisfied: filelock in /opt/conda/lib/python3.7/site-packages (from huggingface-hub->timm) (3.7.1)\r\n",
      "Requirement already satisfied: tqdm in /opt/conda/lib/python3.7/site-packages (from huggingface-hub->timm) (4.64.0)\r\n",
      "Requirement already satisfied: requests in /opt/conda/lib/python3.7/site-packages (from huggingface-hub->timm) (2.28.1)\r\n",
      "Requirement already satisfied: packaging>=20.9 in /opt/conda/lib/python3.7/site-packages (from huggingface-hub->timm) (21.3)\r\n",
      "Requirement already satisfied: numpy in /opt/conda/lib/python3.7/site-packages (from torchvision->timm) (1.21.6)\r\n",
      "Requirement already satisfied: pillow!=8.3.*,>=5.3.0 in /opt/conda/lib/python3.7/site-packages (from torchvision->timm) (9.1.1)\r\n",
      "Requirement already satisfied: pyparsing!=3.0.5,>=2.0.2 in /opt/conda/lib/python3.7/site-packages (from packaging>=20.9->huggingface-hub->timm) (3.0.9)\r\n",
      "Requirement already satisfied: zipp>=0.5 in /opt/conda/lib/python3.7/site-packages (from importlib-metadata->huggingface-hub->timm) (3.8.0)\r\n",
      "Requirement already satisfied: certifi>=2017.4.17 in /opt/conda/lib/python3.7/site-packages (from requests->huggingface-hub->timm) (2022.9.24)\r\n",
      "Requirement already satisfied: charset-normalizer<3,>=2 in /opt/conda/lib/python3.7/site-packages (from requests->huggingface-hub->timm) (2.1.0)\r\n",
      "Requirement already satisfied: idna<4,>=2.5 in /opt/conda/lib/python3.7/site-packages (from requests->huggingface-hub->timm) (3.3)\r\n",
      "Requirement already satisfied: urllib3<1.27,>=1.21.1 in /opt/conda/lib/python3.7/site-packages (from requests->huggingface-hub->timm) (1.26.12)\r\n",
      "Installing collected packages: timm\r\n",
      "Successfully installed timm-0.6.12\r\n",
      "\u001b[33mWARNING: Running pip as the 'root' user can result in broken permissions and conflicting behaviour with the system package manager. It is recommended to use a virtual environment instead: https://pip.pypa.io/warnings/venv\u001b[0m\u001b[33m\r\n",
      "\u001b[0mLooking in links: /kaggle/input/monai-whl\r\n",
      "Processing /kaggle/input/monai-whl/monai-1.1.0-202212191849-py3-none-any.whl\r\n",
      "Requirement already satisfied: torch>=1.8 in /opt/conda/lib/python3.7/site-packages (from monai) (1.11.0)\r\n",
      "Requirement already satisfied: numpy>=1.17 in /opt/conda/lib/python3.7/site-packages (from monai) (1.21.6)\r\n",
      "Requirement already satisfied: typing-extensions in /opt/conda/lib/python3.7/site-packages (from torch>=1.8->monai) (4.1.1)\r\n",
      "Installing collected packages: monai\r\n",
      "Successfully installed monai-1.1.0\r\n",
      "\u001b[33mWARNING: Running pip as the 'root' user can result in broken permissions and conflicting behaviour with the system package manager. It is recommended to use a virtual environment instead: https://pip.pypa.io/warnings/venv\u001b[0m\u001b[33m\r\n",
      "\u001b[0mLooking in links: /kaggle/input/torchio\r\n",
      "Processing /kaggle/input/torchio/torchio-0.18.86-py2.py3-none-any.whl\r\n",
      "Requirement already satisfied: torch>=1.1 in /opt/conda/lib/python3.7/site-packages (from torchio) (1.11.0)\r\n",
      "Processing /kaggle/input/torchio/Deprecated-1.2.13-py2.py3-none-any.whl\r\n",
      "Requirement already satisfied: scipy in /opt/conda/lib/python3.7/site-packages (from torchio) (1.7.3)\r\n",
      "Requirement already satisfied: nibabel in /opt/conda/lib/python3.7/site-packages (from torchio) (4.0.2)\r\n",
      "Requirement already satisfied: tqdm in /opt/conda/lib/python3.7/site-packages (from torchio) (4.64.0)\r\n",
      "Requirement already satisfied: typer[all] in /opt/conda/lib/python3.7/site-packages (from torchio) (0.4.2)\r\n",
      "Requirement already satisfied: numpy>=1.15 in /opt/conda/lib/python3.7/site-packages (from torchio) (1.21.6)\r\n",
      "Requirement already satisfied: SimpleITK!=2.0.*,!=2.1.1.1 in /opt/conda/lib/python3.7/site-packages (from torchio) (2.2.0)\r\n",
      "Requirement already satisfied: humanize in /opt/conda/lib/python3.7/site-packages (from torchio) (4.4.0)\r\n",
      "Requirement already satisfied: typing-extensions in /opt/conda/lib/python3.7/site-packages (from torch>=1.1->torchio) (4.1.1)\r\n",
      "Requirement already satisfied: wrapt<2,>=1.10 in /opt/conda/lib/python3.7/site-packages (from Deprecated->torchio) (1.12.1)\r\n",
      "Requirement already satisfied: importlib-metadata in /opt/conda/lib/python3.7/site-packages (from humanize->torchio) (4.13.0)\r\n",
      "Requirement already satisfied: packaging>=17.0 in /opt/conda/lib/python3.7/site-packages (from nibabel->torchio) (21.3)\r\n",
      "Requirement already satisfied: setuptools in /opt/conda/lib/python3.7/site-packages (from nibabel->torchio) (59.8.0)\r\n",
      "Requirement already satisfied: click<9.0.0,>=7.1.1 in /opt/conda/lib/python3.7/site-packages (from typer[all]->torchio) (8.0.4)\r\n",
      "Requirement already satisfied: colorama<0.5.0,>=0.4.3 in /opt/conda/lib/python3.7/site-packages (from typer[all]->torchio) (0.4.5)\r\n",
      "Processing /kaggle/input/torchio/shellingham-1.5.0.post1-py2.py3-none-any.whl\r\n",
      "Requirement already satisfied: pyparsing!=3.0.5,>=2.0.2 in /opt/conda/lib/python3.7/site-packages (from packaging>=17.0->nibabel->torchio) (3.0.9)\r\n",
      "Requirement already satisfied: zipp>=0.5 in /opt/conda/lib/python3.7/site-packages (from importlib-metadata->humanize->torchio) (3.8.0)\r\n",
      "Installing collected packages: shellingham, Deprecated, torchio\r\n",
      "Successfully installed Deprecated-1.2.13 shellingham-1.5.0.post1 torchio-0.18.86\r\n",
      "\u001b[33mWARNING: Running pip as the 'root' user can result in broken permissions and conflicting behaviour with the system package manager. It is recommended to use a virtual environment instead: https://pip.pypa.io/warnings/venv\u001b[0m\u001b[33m\r\n",
      "\u001b[0mLooking in links: /kaggle/input/addict\r\n",
      "Processing /kaggle/input/addict/addict-2.4.0-py3-none-any.whl\r\n",
      "Installing collected packages: addict\r\n",
      "Successfully installed addict-2.4.0\r\n",
      "\u001b[33mWARNING: Running pip as the 'root' user can result in broken permissions and conflicting behaviour with the system package manager. It is recommended to use a virtual environment instead: https://pip.pypa.io/warnings/venv\u001b[0m\u001b[33m\r\n",
      "\u001b[0m"
     ]
    }
   ],
   "source": [
    "! pip install /kaggle/input/pydicom/{pydicom-2.3.0-py3-none-any.whl,pylibjpeg-1.4.0-py3-none-any.whl,python_gdcm-3.0.21-cp37-cp37m-manylinux_2_17_x86_64.manylinux2014_x86_64.whl}\n",
    "! pip install --no-index --find-links=/kaggle/input/timm-package timm\n",
    "! pip install --no-index --find-links=/kaggle/input/monai-whl monai\n",
    "! pip install --no-index --find-links=/kaggle/input/torchio torchio\n",
    "! pip install --no-index --find-links=/kaggle/input/addict addict"
   ]
  },
  {
   "cell_type": "code",
   "execution_count": 2,
   "id": "4332f6be",
   "metadata": {
    "execution": {
     "iopub.execute_input": "2023-02-27T03:54:42.677868Z",
     "iopub.status.busy": "2023-02-27T03:54:42.677546Z",
     "iopub.status.idle": "2023-02-27T03:54:53.692217Z",
     "shell.execute_reply": "2023-02-27T03:54:53.691043Z"
    },
    "papermill": {
     "duration": 11.022093,
     "end_time": "2023-02-27T03:54:53.694926",
     "exception": false,
     "start_time": "2023-02-27T03:54:42.672833",
     "status": "completed"
    },
    "tags": []
   },
   "outputs": [],
   "source": [
    "import os, sys, platform, subprocess\n",
    "repo = \"/kaggle/input/rsna-breast-cancer-2023/\"\n",
    "sys.path.insert(0, repo)\n",
    "from os.path import join, dirname, basename, abspath\n",
    "import time\n",
    "import numpy as np\n",
    "import pandas as pd\n",
    "import pydicom\n",
    "import SimpleITK as sitk\n",
    "import cv2\n",
    "import torch\n",
    "import tensorflow\n",
    "import matplotlib.pyplot as plt\n",
    "import yaml\n",
    "import h5py\n",
    "import json\n",
    "from glob import glob\n",
    "# import addict\n",
    "from addict import Dict\n",
    "# import monai\n",
    "import monai\n",
    "# import torchio\n",
    "import torchio as tio\n",
    "# import custom classes\n",
    "\n",
    "from submission import Submission\n",
    "from preprocessing import MammoPreprocess, MetadataPreprocess\n",
    "from splitdata import SplitData"
   ]
  },
  {
   "cell_type": "code",
   "execution_count": 3,
   "id": "0facb27f",
   "metadata": {
    "execution": {
     "iopub.execute_input": "2023-02-27T03:54:53.704061Z",
     "iopub.status.busy": "2023-02-27T03:54:53.703405Z",
     "iopub.status.idle": "2023-02-27T03:54:53.714447Z",
     "shell.execute_reply": "2023-02-27T03:54:53.713391Z"
    },
    "papermill": {
     "duration": 0.017943,
     "end_time": "2023-02-27T03:54:53.716604",
     "exception": false,
     "start_time": "2023-02-27T03:54:53.698661",
     "status": "completed"
    },
    "tags": []
   },
   "outputs": [],
   "source": [
    "def randresult(md_path):\n",
    "    test_md = pd.read_csv(md_path)\n",
    "    pats = test_md[\"patient_id\"].tolist()\n",
    "    lats = test_md[\"laterality\"].tolist()\n",
    "    pat_ids = [\"_\".join(item) for item in zip(map(str, pats), lats)]\n",
    "    rand_cancer = np.random.rand(len(pat_ids))\n",
    "    raw_results = pd.DataFrame({\"prediction_id\": pat_ids, \"cancer\": rand_cancer})\n",
    "    results = raw_results.groupby(\"prediction_id\")[\"cancer\"].mean()\n",
    "    return results\n",
    "\n",
    "def preprocess_loop(cfgs):\n",
    "    paths = cfgs.paths\n",
    "    pcfgs = cfgs.preprocess_params\n",
    "    data_prep = MammoPreprocess(paths.data_src, paths.data_dest,\n",
    "                                                  pcfgs.file_extension,\n",
    "                                                  pcfgs.resolution,\n",
    "                                                  pcfgs.init_downsample_ratio,\n",
    "                                                  pcfgs.normalization)\n",
    "\n",
    "    mcfgs = cfgs.metadata_params\n",
    "    mdata_prep = MetadataPreprocess(paths.metadata_src, paths.metadata_dest,\n",
    "                                    mcfgs)\n",
    "\n",
    "    mdata_prep.GenerateMetadata()\n",
    "    mdata_prep.Save()\n",
    "\n",
    "    data_prep.GenerateDataset()\n",
    "    return\n",
    "\n",
    "def splitdata_loop(cfgs):\n",
    "    paths = cfgs.paths\n",
    "    SplitData(paths.metadata_dest, paths.data_ids_dest,\n",
    "         cfgs.preprocess_params.test_set,\n",
    "         cfgs.preprocess_params.num_samples,\n",
    "         cfgs.preprocess_params.test_size)\n",
    "    return\n",
    "\n",
    "def main(cfile):\n",
    "    cfgs = Dict(yaml.load(open(abspath(cfile), \"r\"), Loader=yaml.Loader))\n",
    "    preprocess_loop(cfgs)\n",
    "    splitdata_loop(cfgs)\n",
    "    if torch.cuda.is_available():\n",
    "        torch.cuda.empty_cache()\n",
    "    submit = Submission(cfgs)\n",
    "    submit.Run()\n",
    "    submit.ExportSubmissionCSV()"
   ]
  },
  {
   "cell_type": "code",
   "execution_count": 4,
   "id": "abadff06",
   "metadata": {
    "execution": {
     "iopub.execute_input": "2023-02-27T03:54:53.724849Z",
     "iopub.status.busy": "2023-02-27T03:54:53.724562Z",
     "iopub.status.idle": "2023-02-27T03:55:08.728975Z",
     "shell.execute_reply": "2023-02-27T03:55:08.726662Z"
    },
    "papermill": {
     "duration": 15.01112,
     "end_time": "2023-02-27T03:55:08.731340",
     "exception": false,
     "start_time": "2023-02-27T03:54:53.720220",
     "status": "completed"
    },
    "tags": []
   },
   "outputs": [
    {
     "name": "stdout",
     "output_type": "stream",
     "text": [
      "Metadata file created in /kaggle/temp/preprocessed/metasub.json.\n",
      "Preprocessing |████████████████████████████████████████████████████████████████████████████████████████████████████| 4/4 Images\r\n",
      "/kaggle/temp/preprocessed/mammosub224.h5 created.\n",
      "Samples |████████████████████████████████████████████████████████████████████████████████████████████████████| 4/4 \r\n"
     ]
    }
   ],
   "source": [
    "config_file = os.path.join(repo, \"config/test_config.yaml\")\n",
    "main(config_file)"
   ]
  }
 ],
 "metadata": {
  "kernelspec": {
   "display_name": "Python 3",
   "language": "python",
   "name": "python3"
  },
  "language_info": {
   "codemirror_mode": {
    "name": "ipython",
    "version": 3
   },
   "file_extension": ".py",
   "mimetype": "text/x-python",
   "name": "python",
   "nbconvert_exporter": "python",
   "pygments_lexer": "ipython3",
   "version": "3.7.12"
  },
  "papermill": {
   "default_parameters": {},
   "duration": 108.243709,
   "end_time": "2023-02-27T03:55:11.833787",
   "environment_variables": {},
   "exception": null,
   "input_path": "__notebook__.ipynb",
   "output_path": "__notebook__.ipynb",
   "parameters": {},
   "start_time": "2023-02-27T03:53:23.590078",
   "version": "2.3.4"
  }
 },
 "nbformat": 4,
 "nbformat_minor": 5
}
