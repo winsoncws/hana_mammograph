{
 "cells": [
  {
   "cell_type": "code",
   "execution_count": null,
   "id": "7f87da49",
   "metadata": {},
   "outputs": [],
   "source": [
    "import os, sys\n",
    "repo = \"/home/isaiah/hana_mammograph/isaiah/\"\n",
    "# repo = \"/Users/isaiah/Github/hana_mammograph/isaiah/\"\n",
    "sys.path.insert(0, repo)\n",
    "from os.path import isdir, abspath, dirname\n",
    "from collections import defaultdict\n",
    "import numpy as np\n",
    "import json\n",
    "import csv\n",
    "from addict import Dict\n",
    "import torch\n",
    "import torch.nn as nn\n",
    "import torch.nn.functional as F\n",
    "from torch.utils.data import DataLoader\n",
    "from torch.optim import SGD, Adam\n",
    "from torch.optim.lr_scheduler import ExponentialLR, CyclicLR\n",
    "from dataset import MammoH5Data, GroupSampler\n",
    "from models import DenseNet\n",
    "from utils import printProgressBarRatio\n",
    "import h5py\n",
    "import pydicom\n",
    "\n",
    "import matplotlib.pyplot as plt"
   ]
  },
  {
   "cell_type": "code",
   "execution_count": null,
   "id": "cf21de2b",
   "metadata": {},
   "outputs": [],
   "source": [
    "# datapath = \"/Users/isaiah/datasets/kaggle_mammograph/preprocessed/mammodata224_2.h5\"\n",
    "# metadatapath = \"/Users/isaiah/datasets/kaggle_mammograph/preprocessed/metadata.json\"\n",
    "# dataidspath = \"/Users/isaiah/datasets/kaggle_mammograph/preprocessed/train_split.json\"\n",
    "datapath = \"/home/isaiah/kaggle/mammo/preprocessed/mammodata224_2.h5\"\n",
    "metadatapath = \"/home/isaiah/kaggle/mammo/preprocessed/metadata_2.json\"\n",
    "dataidspath = \"/home/isaiah/kaggle/mammo/preprocessed/train_split_2.json\"\n",
    "\n",
    "metadata_params = Dict({\n",
    "    \"test_set\": False,\n",
    "    \"selected_columns\": ['image_id', 'patient_id', 'laterality', 'view', 'age',\n",
    "                       'cancer', 'implant', 'density', 'machine_id', \n",
    "                       'difficult_negative_case'],\n",
    "    \"default_value\": 'na',\n",
    "    \"age_nan\": \"mean\",\n",
    "    \"laterality_map\": {'L': 0, 'R': 1},\n",
    "    \"view_map\": {'CC': 0, 'MLO': 1},\n",
    "    \"density_map\": {'A': 1, 'B': 2, 'C': 3, 'D': 4},\n",
    "    \"diff_neg_case_map\": {\"FALSE\": 0, \"TRUE\": 1},\n",
    "})\n",
    "\n",
    "dataset_params = Dict({\n",
    "    \"augmentations\": [\"contrast_brightness\", \"flip\", \"rotate\", \"noise\"],\n",
    "    \"labels\": [\"cancer\", \"laterality\"],\n",
    "    \"sample_ratio\": 0.5,\n",
    "})\n",
    "    \n",
    "with open(dataidspath, \"r\") as f:\n",
    "    data_ids = Dict(json.load(f))\n",
    "\n",
    "# data_ids = {\"train\": {\"cancer\": [],\n",
    "#                      \"healthy\": [\"197998560\", \"408838480\", \"490308031\", \"1287996498\", \n",
    "#                      \"1568473810\", \"1634189725\", \"1903499763\", \"1977237482\"]},\n",
    "#            \"val\": {\"cancer\": [], \n",
    "#                    \"healthy\": []}\n",
    "#           }\n",
    "\n",
    "classes = ['cancer', 'healthy']\n",
    "batch_size = 4"
   ]
  },
  {
   "cell_type": "code",
   "execution_count": null,
   "id": "01219810",
   "metadata": {},
   "outputs": [],
   "source": [
    "data = MammoH5Data(\"cpu\", datapath, metadatapath,\n",
    "                        dataset_params)\n",
    "train_sampler = GroupSampler(data_ids[\"train\"][classes[0]] + data_ids[\"val\"][classes[0]], shuffle=True)\n",
    "trainloader = DataLoader(data, batch_size, sampler=train_sampler)"
   ]
  },
  {
   "cell_type": "code",
   "execution_count": null,
   "id": "37ee33f8",
   "metadata": {},
   "outputs": [],
   "source": [
    "(img_id, img, gt) = next(iter(trainloader))\n",
    "print(gt)\n",
    "fig, axs = plt.subplots(2, 2, figsize=(14, 14))\n",
    "axs[0, 0].set_title(str(img_id.detach().numpy()[0]) + \" \" + str(img.detach().shape))\n",
    "axs[0, 0].imshow(img.detach().numpy()[0].squeeze(), cmap=\"bone\")\n",
    "axs[0, 1].set_title(str(img_id.detach().numpy()[1]) + \" \" + str(img.detach().shape))                    \n",
    "axs[0, 1].imshow(img.detach().numpy()[1].squeeze(), cmap=\"bone\")\n",
    "axs[1, 0].set_title(str(img_id.detach().numpy()[2]) + \" \" + str(img.detach().shape))\n",
    "axs[1, 0].imshow(img.detach().numpy()[2].squeeze(), cmap=\"bone\")\n",
    "axs[1, 1].set_title(str(img_id.detach().numpy()[3]) + \" \" + str(img.detach().shape))\n",
    "axs[1, 1].imshow(img.detach().numpy()[3].squeeze(), cmap=\"bone\")\n",
    "plt.show()"
   ]
  },
  {
   "cell_type": "code",
   "execution_count": null,
   "id": "564a4068",
   "metadata": {},
   "outputs": [],
   "source": [
    "plt.close()"
   ]
  },
  {
   "cell_type": "markdown",
   "id": "4f8a0140",
   "metadata": {},
   "source": [
    "with h5py.File(datapath, \"r\") as f:\n",
    "    im = f[\"197998560\"][:]\n",
    "fig2 = plt.figure(figsize=(10, 10))\n",
    "ax2 = plt.axes()\n",
    "ax2.imshow(im, cmap=\"bone\")\n",
    "plt.show()"
   ]
  },
  {
   "cell_type": "markdown",
   "id": "cc63cee7",
   "metadata": {},
   "source": [
    "image_file = \"/home/dataset/kaggle/input/train_images/3768/197998560.dcm\"\n",
    "dcm = pydicom.dcmread(image_file)\n",
    "ds = dcm.pixel_array\n",
    "fig3 = plt.figure(figsize=(10, 10))\n",
    "ax3 = plt.axes()\n",
    "ax3.imshow(ds, cmap=\"bone\")\n",
    "plt.show()"
   ]
  },
  {
   "cell_type": "code",
   "execution_count": null,
   "id": "9718fe22",
   "metadata": {},
   "outputs": [],
   "source": []
  }
 ],
 "metadata": {
  "kernelspec": {
   "display_name": "Python 3 (ipykernel)",
   "language": "python",
   "name": "python3"
  },
  "language_info": {
   "codemirror_mode": {
    "name": "ipython",
    "version": 3
   },
   "file_extension": ".py",
   "mimetype": "text/x-python",
   "name": "python",
   "nbconvert_exporter": "python",
   "pygments_lexer": "ipython3",
   "version": "3.9.12"
  }
 },
 "nbformat": 4,
 "nbformat_minor": 5
}
