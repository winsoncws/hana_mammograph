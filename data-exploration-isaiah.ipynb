{
 "cells": [
  {
   "cell_type": "code",
   "execution_count": 1,
   "id": "33824057",
   "metadata": {
    "execution": {
     "iopub.execute_input": "2023-01-05T09:19:46.586469Z",
     "iopub.status.busy": "2023-01-05T09:19:46.585701Z",
     "iopub.status.idle": "2023-01-05T09:19:46.598469Z",
     "shell.execute_reply": "2023-01-05T09:19:46.596758Z"
    },
    "papermill": {
     "duration": 0.022651,
     "end_time": "2023-01-05T09:19:46.601949",
     "exception": false,
     "start_time": "2023-01-05T09:19:46.579298",
     "status": "completed"
    },
    "tags": []
   },
   "outputs": [
    {
     "name": "stdout",
     "output_type": "stream",
     "text": [
      "python version: 3.7.12 | packaged by conda-forge | (default, Oct 26 2021, 06:08:53) \n",
      "[GCC 9.4.0]\n",
      "os type: posix\n",
      "os: Linux\n",
      "os release: 5.15.65+\n"
     ]
    }
   ],
   "source": [
    "import os, sys, platform\n",
    "\n",
    "print(f\"python version: {sys.version}\")\n",
    "print(f\"os type: {os.name}\")\n",
    "print(f\"os: {platform.system()}\")\n",
    "print(f\"os release: {platform.release()}\")"
   ]
  },
  {
   "cell_type": "code",
   "execution_count": 2,
   "id": "bf484d11",
   "metadata": {
    "execution": {
     "iopub.execute_input": "2023-01-05T09:19:46.610944Z",
     "iopub.status.busy": "2023-01-05T09:19:46.610533Z",
     "iopub.status.idle": "2023-01-05T09:19:49.244467Z",
     "shell.execute_reply": "2023-01-05T09:19:49.242822Z"
    },
    "papermill": {
     "duration": 2.641872,
     "end_time": "2023-01-05T09:19:49.247569",
     "exception": false,
     "start_time": "2023-01-05T09:19:46.605697",
     "status": "completed"
    },
    "tags": []
   },
   "outputs": [
    {
     "name": "stdout",
     "output_type": "stream",
     "text": [
      "Cloning into 'hana_mammograph'...\r\n",
      "remote: Enumerating objects: 35, done.\u001b[K\r\n",
      "remote: Counting objects: 100% (35/35), done.\u001b[K\r\n",
      "remote: Compressing objects: 100% (26/26), done.\u001b[K\r\n",
      "remote: Total 35 (delta 12), reused 22 (delta 5), pack-reused 0\u001b[K\r\n",
      "Unpacking objects: 100% (35/35), 10.80 KiB | 1.08 MiB/s, done.\r\n"
     ]
    }
   ],
   "source": [
    "repo_path = \"/kaggle/working/hana_mammograph\"\n",
    "if not os.path.isdir(repo_path):\n",
    "    ! git clone https://github.com/winsoncws/hana_mammograph.git\n",
    "os.chdir(repo_path)"
   ]
  },
  {
   "cell_type": "code",
   "execution_count": 3,
   "id": "7c62eae3",
   "metadata": {
    "execution": {
     "iopub.execute_input": "2023-01-05T09:19:49.257868Z",
     "iopub.status.busy": "2023-01-05T09:19:49.257450Z",
     "iopub.status.idle": "2023-01-05T09:19:51.182778Z",
     "shell.execute_reply": "2023-01-05T09:19:51.181298Z"
    },
    "papermill": {
     "duration": 1.933666,
     "end_time": "2023-01-05T09:19:51.185496",
     "exception": false,
     "start_time": "2023-01-05T09:19:49.251830",
     "status": "completed"
    },
    "tags": []
   },
   "outputs": [
    {
     "name": "stdout",
     "output_type": "stream",
     "text": [
      "Already up to date.\r\n"
     ]
    }
   ],
   "source": [
    "# update custom repo\n",
    "! git pull"
   ]
  },
  {
   "cell_type": "code",
   "execution_count": 4,
   "id": "c8b13ed1",
   "metadata": {
    "_cell_guid": "b1076dfc-b9ad-4769-8c92-a6c4dae69d19",
    "_uuid": "8f2839f25d086af736a60e9eeb907d3b93b6e0e5",
    "execution": {
     "iopub.execute_input": "2023-01-05T09:19:51.195408Z",
     "iopub.status.busy": "2023-01-05T09:19:51.194982Z",
     "iopub.status.idle": "2023-01-05T09:20:29.769329Z",
     "shell.execute_reply": "2023-01-05T09:20:29.767891Z"
    },
    "papermill": {
     "duration": 38.586337,
     "end_time": "2023-01-05T09:20:29.776070",
     "exception": false,
     "start_time": "2023-01-05T09:19:51.189733",
     "status": "completed"
    },
    "tags": []
   },
   "outputs": [
    {
     "name": "stdout",
     "output_type": "stream",
     "text": [
      "/kaggle/input\n",
      "/kaggle/input/monai-whl\n",
      "    monai-1.1.0-202212191849-py3-none-any.whl\n",
      "/kaggle/input/torchio\n",
      "    torchio-0.18.86-py2.py3-none-any.whl\n",
      "    Deprecated-1.2.13-py2.py3-none-any.whl\n",
      "    shellingham-1.5.0.post1-py2.py3-none-any.whl\n",
      "/kaggle/input/rsna-breast-cancer-detection\n",
      "    sample_submission.csv\n",
      "    train.csv\n",
      "    test.csv\n",
      "/kaggle/input/rsna-breast-cancer-detection/train_images\n",
      "/kaggle/input/rsna-breast-cancer-detection/test_images\n",
      "total train patients: 11913\n",
      "total test patients: 1\n",
      "total train: 54706\n",
      "total test : 4\n"
     ]
    }
   ],
   "source": [
    "# List files in input directory\n",
    "import os\n",
    "train_count = 0\n",
    "test_count  = 0\n",
    "test_patient_count = 0\n",
    "train_patient_count = 0\n",
    "for dirname, _, filenames in os.walk('/kaggle/input'):\n",
    "    if dirname.split(\"/\", -1)[-1].isnumeric():\n",
    "        if 'test_images' in dirname:    \n",
    "            test_patient_count += 1\n",
    "        else:\n",
    "            train_patient_count += 1\n",
    "    else:\n",
    "        print(dirname)\n",
    "    for filename in filenames:\n",
    "        if \"dcm\" in filename:\n",
    "            if 'test_images' in dirname:\n",
    "                test_count += 1\n",
    "            else:\n",
    "                train_count += 1\n",
    "        else:\n",
    "            print(\"    \" + filename)\n",
    "\n",
    "print(\"total train patients:\", train_patient_count)\n",
    "print(\"total test patients:\", test_patient_count)\n",
    "print(\"total train:\", train_count)\n",
    "print(\"total test :\", test_count)\n",
    "# You can write up to 20GB to the current directory (/kaggle/working/) that gets preserved as output when you create a version using \"Save & Run All\" \n",
    "# You can also write temporary files to /kaggle/temp/, but they won't be saved outside of the current session"
   ]
  },
  {
   "cell_type": "code",
   "execution_count": 5,
   "id": "1b315261",
   "metadata": {
    "execution": {
     "iopub.execute_input": "2023-01-05T09:20:29.787645Z",
     "iopub.status.busy": "2023-01-05T09:20:29.786693Z",
     "iopub.status.idle": "2023-01-05T09:20:32.595569Z",
     "shell.execute_reply": "2023-01-05T09:20:32.594332Z"
    },
    "papermill": {
     "duration": 2.81817,
     "end_time": "2023-01-05T09:20:32.598404",
     "exception": false,
     "start_time": "2023-01-05T09:20:29.780234",
     "status": "completed"
    },
    "tags": []
   },
   "outputs": [],
   "source": [
    "import numpy\n",
    "import matplotlib.pyplot as plt\n",
    "import pydicom\n",
    "import cv2\n",
    "import SimpleITK as sitk\n",
    "import torch\n",
    "import torchvision\n",
    "from torch.utils.data import DataLoader"
   ]
  },
  {
   "cell_type": "code",
   "execution_count": 6,
   "id": "f59e33f8",
   "metadata": {
    "execution": {
     "iopub.execute_input": "2023-01-05T09:20:32.608524Z",
     "iopub.status.busy": "2023-01-05T09:20:32.607821Z",
     "iopub.status.idle": "2023-01-05T09:20:46.092794Z",
     "shell.execute_reply": "2023-01-05T09:20:46.090799Z"
    },
    "papermill": {
     "duration": 13.493821,
     "end_time": "2023-01-05T09:20:46.096361",
     "exception": false,
     "start_time": "2023-01-05T09:20:32.602540",
     "status": "completed"
    },
    "tags": []
   },
   "outputs": [
    {
     "name": "stdout",
     "output_type": "stream",
     "text": [
      "Looking in links: /kaggle/input/torchio\r\n",
      "Processing /kaggle/input/torchio/torchio-0.18.86-py2.py3-none-any.whl\r\n",
      "Requirement already satisfied: scipy in /opt/conda/lib/python3.7/site-packages (from torchio) (1.7.3)\r\n",
      "Requirement already satisfied: nibabel in /opt/conda/lib/python3.7/site-packages (from torchio) (4.0.2)\r\n",
      "Requirement already satisfied: typer[all] in /opt/conda/lib/python3.7/site-packages (from torchio) (0.4.2)\r\n",
      "Requirement already satisfied: humanize in /opt/conda/lib/python3.7/site-packages (from torchio) (4.4.0)\r\n",
      "Processing /kaggle/input/torchio/Deprecated-1.2.13-py2.py3-none-any.whl\r\n",
      "Requirement already satisfied: tqdm in /opt/conda/lib/python3.7/site-packages (from torchio) (4.64.0)\r\n",
      "Requirement already satisfied: numpy>=1.15 in /opt/conda/lib/python3.7/site-packages (from torchio) (1.21.6)\r\n",
      "Requirement already satisfied: SimpleITK!=2.0.*,!=2.1.1.1 in /opt/conda/lib/python3.7/site-packages (from torchio) (2.2.0)\r\n",
      "Requirement already satisfied: torch>=1.1 in /opt/conda/lib/python3.7/site-packages (from torchio) (1.11.0+cpu)\r\n",
      "Requirement already satisfied: typing-extensions in /opt/conda/lib/python3.7/site-packages (from torch>=1.1->torchio) (4.1.1)\r\n",
      "Requirement already satisfied: wrapt<2,>=1.10 in /opt/conda/lib/python3.7/site-packages (from Deprecated->torchio) (1.12.1)\r\n",
      "Requirement already satisfied: importlib-metadata in /opt/conda/lib/python3.7/site-packages (from humanize->torchio) (4.13.0)\r\n",
      "Requirement already satisfied: setuptools in /opt/conda/lib/python3.7/site-packages (from nibabel->torchio) (59.8.0)\r\n",
      "Requirement already satisfied: packaging>=17.0 in /opt/conda/lib/python3.7/site-packages (from nibabel->torchio) (21.3)\r\n",
      "Requirement already satisfied: click<9.0.0,>=7.1.1 in /opt/conda/lib/python3.7/site-packages (from typer[all]->torchio) (8.0.4)\r\n",
      "Processing /kaggle/input/torchio/shellingham-1.5.0.post1-py2.py3-none-any.whl\r\n",
      "Requirement already satisfied: colorama<0.5.0,>=0.4.3 in /opt/conda/lib/python3.7/site-packages (from typer[all]->torchio) (0.4.6)\r\n",
      "Requirement already satisfied: pyparsing!=3.0.5,>=2.0.2 in /opt/conda/lib/python3.7/site-packages (from packaging>=17.0->nibabel->torchio) (3.0.9)\r\n",
      "Requirement already satisfied: zipp>=0.5 in /opt/conda/lib/python3.7/site-packages (from importlib-metadata->humanize->torchio) (3.8.0)\r\n",
      "Installing collected packages: shellingham, Deprecated, torchio\r\n",
      "Successfully installed Deprecated-1.2.13 shellingham-1.5.0.post1 torchio-0.18.86\r\n",
      "\u001b[33mWARNING: Running pip as the 'root' user can result in broken permissions and conflicting behaviour with the system package manager. It is recommended to use a virtual environment instead: https://pip.pypa.io/warnings/venv\u001b[0m\u001b[33m\r\n",
      "\u001b[0mall non-standard packages successfully installed and imported.\n"
     ]
    }
   ],
   "source": [
    "# pip install packages not in notebook environment\n",
    "try:\n",
    "    import torchio as tio\n",
    "except:\n",
    "    ! pip install --no-index --find-links=/kaggle/input/torchio torchio\n",
    "try:\n",
    "    import torchio\n",
    "except:\n",
    "    ! pip install --no-index --find-links=/kaggle/input/monai-whl monai\n",
    "    \n",
    "print(\"all non-standard packages successfully installed and imported.\")"
   ]
  },
  {
   "cell_type": "code",
   "execution_count": 7,
   "id": "9a8cab78",
   "metadata": {
    "execution": {
     "iopub.execute_input": "2023-01-05T09:20:46.109124Z",
     "iopub.status.busy": "2023-01-05T09:20:46.108695Z",
     "iopub.status.idle": "2023-01-05T09:20:46.117958Z",
     "shell.execute_reply": "2023-01-05T09:20:46.116216Z"
    },
    "papermill": {
     "duration": 0.019083,
     "end_time": "2023-01-05T09:20:46.120887",
     "exception": false,
     "start_time": "2023-01-05T09:20:46.101804",
     "status": "completed"
    },
    "tags": []
   },
   "outputs": [],
   "source": [
    "# import custom module\n",
    "from isaiah import MammoData"
   ]
  },
  {
   "cell_type": "code",
   "execution_count": 8,
   "id": "91d63b4c",
   "metadata": {
    "execution": {
     "iopub.execute_input": "2023-01-05T09:20:46.132862Z",
     "iopub.status.busy": "2023-01-05T09:20:46.132152Z",
     "iopub.status.idle": "2023-01-05T09:20:46.140157Z",
     "shell.execute_reply": "2023-01-05T09:20:46.138867Z"
    },
    "papermill": {
     "duration": 0.017367,
     "end_time": "2023-01-05T09:20:46.143178",
     "exception": false,
     "start_time": "2023-01-05T09:20:46.125811",
     "status": "completed"
    },
    "tags": []
   },
   "outputs": [],
   "source": [
    "torch.manual_seed(42)\n",
    "training_data_dir = \"/kaggle/input/rsna-breast-cancer-detection/train_images\""
   ]
  },
  {
   "cell_type": "code",
   "execution_count": 9,
   "id": "eb84cffd",
   "metadata": {
    "execution": {
     "iopub.execute_input": "2023-01-05T09:20:46.155244Z",
     "iopub.status.busy": "2023-01-05T09:20:46.154809Z",
     "iopub.status.idle": "2023-01-05T09:21:01.046102Z",
     "shell.execute_reply": "2023-01-05T09:21:01.044495Z"
    },
    "papermill": {
     "duration": 14.900594,
     "end_time": "2023-01-05T09:21:01.048977",
     "exception": false,
     "start_time": "2023-01-05T09:20:46.148383",
     "status": "completed"
    },
    "tags": []
   },
   "outputs": [
    {
     "name": "stdout",
     "output_type": "stream",
     "text": [
      "54706\n"
     ]
    }
   ],
   "source": [
    "ds = MammoData(training_data_dir)\n",
    "print(len(ds))"
   ]
  },
  {
   "cell_type": "code",
   "execution_count": 10,
   "id": "904d1741",
   "metadata": {
    "execution": {
     "iopub.execute_input": "2023-01-05T09:21:01.061561Z",
     "iopub.status.busy": "2023-01-05T09:21:01.060822Z",
     "iopub.status.idle": "2023-01-05T09:21:01.066427Z",
     "shell.execute_reply": "2023-01-05T09:21:01.065492Z"
    },
    "papermill": {
     "duration": 0.014176,
     "end_time": "2023-01-05T09:21:01.068827",
     "exception": false,
     "start_time": "2023-01-05T09:21:01.054651",
     "status": "completed"
    },
    "tags": []
   },
   "outputs": [],
   "source": [
    "train_dataloader = DataLoader(ds, batch_size=1, shuffle=True)"
   ]
  }
 ],
 "metadata": {
  "kernelspec": {
   "display_name": "Python 3",
   "language": "python",
   "name": "python3"
  },
  "language_info": {
   "codemirror_mode": {
    "name": "ipython",
    "version": 3
   },
   "file_extension": ".py",
   "mimetype": "text/x-python",
   "name": "python",
   "nbconvert_exporter": "python",
   "pygments_lexer": "ipython3",
   "version": "3.7.12"
  },
  "papermill": {
   "default_parameters": {},
   "duration": 84.505767,
   "end_time": "2023-01-05T09:21:02.096965",
   "environment_variables": {},
   "exception": null,
   "input_path": "__notebook__.ipynb",
   "output_path": "__notebook__.ipynb",
   "parameters": {},
   "start_time": "2023-01-05T09:19:37.591198",
   "version": "2.3.4"
  }
 },
 "nbformat": 4,
 "nbformat_minor": 5
}
